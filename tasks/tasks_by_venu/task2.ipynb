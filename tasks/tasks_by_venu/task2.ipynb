{
 "cells": [
  {
   "cell_type": "code",
   "execution_count": 74,
   "metadata": {},
   "outputs": [],
   "source": [
    "# 26. Design a binary tree structure in python/any preferred language in such a way that it is in the \n",
    "# form of a triangle and built on AND logic. Initially it looks like the below structure.\n",
    "# L6 1\n",
    "# L5 1 1\n",
    "# L4 1 1 1\n",
    "# L3 1 1 1 1\n",
    "# L2 1 1 1 1 1\n",
    "# L1 1 1 1 1 1 1\n",
    "# If any value at L1 level is updated then the whole tree should get updated accordingly. For example,\n",
    "# if third value at L1 level is updated to 0 then the tree should get updated as below.\n",
    "# L6 0\n",
    "# L5 0 0\n",
    "# L4 0 0 0\n",
    "# L3 0 0 0 1\n",
    "# L2 1 0 0 1 1\n",
    "# L1 1 1 0 1 1 1\n",
    "# 27. Need to find minimum number of new chair purchase for work area with simulated set of array \n",
    "# values.\n",
    "# C - A new employee comes to work area and new chair need to purchase\n",
    "# R - Employee from work area goes to meeting room and free up the chair\n",
    "# U - Employee comes from meeting room and occupy the chair\n",
    "# L - Leaves the work area and free up the chair\n",
    "# Input :\n",
    "# n = 3\n",
    "# simulated value : ['CCRLU', 'CRLCUC', 'CCCC']\n",
    "# Output:\n",
    "# 2\n",
    "# 2\n",
    "# 4\n",
    "# 28. Given a string s and an integer k, reverse the first k characters for every 2k characters counting\n",
    "# from the start of the string.\n",
    "# If there are fewer than k characters left, reverse all of them. If there are less than 2k but greater \n",
    "# than or equal to k characters, then reverse the first k characters and leave the other as original.\n",
    "# Input: s = \"abcdefg\", k = 2\n",
    "# Output: \"bacdfeg\"\n",
    "# Input: s = \"abcd\", k = 2\n",
    "# Output: \"bacd\"\n",
    "# 29. Write an automation script using seleniumn which should choose the desired product from any \n",
    "# e-commerce site such as flipkart or amazon add it to the cart (make sure you should also login using\n",
    "# the automation script) and then redirect you to the payment page. As payment will require to get OTP info and bank details, you can stop your work till the payment page. If you really want to \n",
    "# explore more then you can explore how you can automate the payment procedure too.\n",
    "# Also please try to do this usecase for the automation --\n",
    "# 1) log in to Flipkart and search for dell laptop in Search.\n",
    "# 2) On the left side, choose the processor as Core i5.\n",
    "# 3) Fetch the laptop details and print the output like Name, model, price, RAM, etc.\n",
    "# 30. Write an automation script which should automate marking the attendence in Keka portal. Try to\n",
    "# automate the marking for your username. This may require you to do extensive research as Keka \n",
    "# login is under company. So please do not restrict your exploration."
   ]
  },
  {
   "cell_type": "code",
   "execution_count": 75,
   "metadata": {},
   "outputs": [],
   "source": [
    "# 26. Design a binary tree structure in python/any preferred language in such a way that it is in the \n",
    "# form of a triangle and built on AND logic. Initially it looks like the below structure.\n",
    "# L6 1\n",
    "# L5 1 1\n",
    "# L4 1 1 1\n",
    "# L3 1 1 1 1\n",
    "# L2 1 1 1 1 1\n",
    "# L1 1 1 1 1 1 1\n",
    "# If any value at L1 level is updated then the whole tree should get updated accordingly. For example,\n",
    "# if third value at L1 level is updated to 0 then the tree should get updated as below.\n",
    "# L6 0\n",
    "# L5 0 0\n",
    "# L4 0 0 0\n",
    "# L3 0 0 0 1\n",
    "# L2 1 0 0 1 1\n",
    "# L1 1 1 0 1 1 1\n",
    "\n",
    "class Node:\n",
    "    def __init__(self, val, left, right):\n",
    "        self.val = val\n",
    "        self.left = left\n",
    "        self.right = right\n",
    "\n",
    "class BinaryTree:\n",
    "    def __init__(self):\n",
    "        self.data = None\n",
    "\n",
    "    def make_tree(self, val, left=None, right=None):\n",
    "        self.data = Node(val, left, right)\n",
    "\n",
    "\n",
    "# Creating Leaf Nodes - L1\n",
    "tree = BinaryTree()\n",
    "b = tree.make_tree(1)\n",
    "c = tree.make_tree(1)\n",
    "d = tree.make_tree(1)\n",
    "e = tree.make_tree(1)\n",
    "f = tree.make_tree(1)\n",
    "a = tree.make_tree(1)\n",
    "\n",
    "\n"
   ]
  },
  {
   "cell_type": "code",
   "execution_count": 76,
   "metadata": {},
   "outputs": [],
   "source": [
    "# 27. Need to find minimum number of new chair purchase for work area with simulated set of array \n",
    "# values.\n",
    "# C - A new employee comes to work area and new chair need to purchase\n",
    "# R - Employee from work area goes to meeting room and free up the chair\n",
    "# U - Employee comes from meeting room and occupy the chair\n",
    "# L - Leaves the work area and free up the chair\n",
    "# Input :\n",
    "# n = 3\n",
    "# simulated value : ['CCRLU', 'CRLCUC', 'CCCC']\n",
    "# Output:\n",
    "# 2\n",
    "# 2\n",
    "# 4"
   ]
  },
  {
   "cell_type": "code",
   "execution_count": 77,
   "metadata": {},
   "outputs": [],
   "source": [
    "# 28. Given a string s and an integer k, reverse the first k characters for every 2k characters counting\n",
    "# from the start of the string.\n",
    "# If there are fewer than k characters left, reverse all of them. If there are less than 2k but greater \n",
    "# than or equal to k characters, then reverse the first k characters and leave the other as original.\n",
    "# Input: s = \"abcdefg\", k = 2\n",
    "# Output: \"bacdfeg\"\n",
    "# Input: s = \"abcd\", k = 2\n",
    "# Output: \"bacd\""
   ]
  },
  {
   "cell_type": "code",
   "execution_count": 78,
   "metadata": {},
   "outputs": [],
   "source": [
    "# 29. Write an automation script using seleniumn which should choose the desired product from any \n",
    "# e-commerce site such as flipkart or amazon add it to the cart (make sure you should also login using\n",
    "# the automation script) and then redirect you to the payment page. As payment will require to get OTP info and bank details, you can stop your work till the payment page. If you really want to \n",
    "# explore more then you can explore how you can automate the payment procedure too.\n",
    "# Also please try to do this usecase for the automation --\n",
    "# 1) log in to Flipkart and search for dell laptop in Search.\n",
    "# 2) On the left side, choose the processor as Core i5.\n",
    "# 3) Fetch the laptop details and print the output like Name, model, price, RAM, etc."
   ]
  },
  {
   "cell_type": "code",
   "execution_count": null,
   "metadata": {},
   "outputs": [],
   "source": [
    "# 30. Write an automation script which should automate marking the attendence in Keka portal. Try to\n",
    "# automate the marking for your username. This may require you to do extensive research as Keka \n",
    "# login is under company. So please do not restrict your exploration."
   ]
  },
  {
   "cell_type": "code",
   "execution_count": 30,
   "metadata": {},
   "outputs": [
    {
     "name": "stdout",
     "output_type": "stream",
     "text": [
      "a1b1c123\n"
     ]
    }
   ],
   "source": [
    "# Q1. Write a program to find the count of alphabet alone in the given alphanumeric string for\n",
    "# Ex1: input=’abb24ccc8ddbbca1’ output=’a1b224c38d2b2c1a11’\n",
    "# Ex2: input = ‘abc23’ output=’a1b1c123\n",
    "\n",
    "def count_alphabets(string):  # abc23\n",
    "    count = 0\n",
    "    res = temp = \"\"\n",
    "\n",
    "    for char in string: # char = a | b | c | 2 | 3\n",
    "        if 'A' <= char <= 'B' or 'a' <= char <= 'z': # True | True | true\n",
    "            if not count: # count != 0\n",
    "                res += char # res = a\n",
    "                temp = char # temp = a\n",
    "                count = 1 # count = 1\n",
    "            else:\n",
    "                if temp == char: # a == b | b == c\n",
    "                    count += 1\n",
    "                else:\n",
    "                    res += str(count) # res = a1 | a1b1\n",
    "                    res += char # res = a1b | a1b1c\n",
    "                    temp = char # b | c\n",
    "                    count = 1 #  count = 1 | 1\n",
    "        else:\n",
    "            if count:  # count = 1 | 0\n",
    "                res += str(count) # res = a1b1c1\n",
    "                temp = \"\" # temp = ''\n",
    "                count = 0 # count = 0\n",
    "\n",
    "            res += char # res = a1b1c12 | a1b1c123\n",
    "\n",
    "    if count:\n",
    "        res += str(count)\n",
    "\n",
    "    return res\n",
    "\n",
    "# print(count_alphabets('abb24ccc8ddbbca1')== \"a1b224c38d2b2c1a11\")\n",
    "print(count_alphabets('abc23'))\n",
    "# print(count_alphabets('abc23aa')== 'a1b1c123a2')"
   ]
  },
  {
   "cell_type": "code",
   "execution_count": 46,
   "metadata": {},
   "outputs": [
    {
     "name": "stdout",
     "output_type": "stream",
     "text": [
      "True\n",
      "True\n",
      "True\n",
      "True\n"
     ]
    }
   ],
   "source": [
    "# Q1. Write a program to find the count of alphabet alone in the given alphanumeric string for\n",
    "# Ex1: input=’abb24ccc8ddbbca1’ output=’a1b224c38d2b2c1a11’\n",
    "# Ex2: input = ‘abc23’ output=’a1b1c123\n",
    "\n",
    "def count_alphabets(string, index, count, temp): \n",
    "    if not string[index:]:\n",
    "        if temp.isalpha():\n",
    "            return str(count)\n",
    "        return ''\n",
    "\n",
    "\n",
    "    char = string[index]\n",
    "\n",
    "    if char.isnumeric():\n",
    "        if count:\n",
    "            return str(count) + char + count_alphabets(string, index+1, 0, char)\n",
    "        return char + count_alphabets(string, index + 1, count, temp)\n",
    "\n",
    "    if not count:\n",
    "        return char + count_alphabets(string, index + 1, 1, char)\n",
    "    \n",
    "    if count and temp == char:\n",
    "        return count_alphabets(string, index + 1, count + 1, temp)\n",
    "    \n",
    "    return str(count) + char + count_alphabets(string, index +1, 1, char)\n",
    "\n",
    "\n",
    "print(count_alphabets('abb24ccc8ddbbca1', 0, 0, '') == \"a1b224c38d2b2c1a11\")\n",
    "print(count_alphabets('abc23', 0, 0, '') == 'a1b1c123')\n",
    "print(count_alphabets('abc23aa', 0, 0, '')== 'a1b1c123a2')\n",
    "print(count_alphabets('111', 0, 0, '')== '111')"
   ]
  },
  {
   "cell_type": "code",
   "execution_count": 29,
   "metadata": {},
   "outputs": [
    {
     "name": "stdout",
     "output_type": "stream",
     "text": [
      "previous\n"
     ]
    },
    {
     "data": {
      "text/plain": [
       "30"
      ]
     },
     "execution_count": 29,
     "metadata": {},
     "output_type": "execute_result"
    }
   ],
   "source": [
    "def outer(func):\n",
    "    def inner(a, b):\n",
    "        print(\"previous\")\n",
    "        return func(a, b)\n",
    "\n",
    "    return inner\n",
    "\n",
    "@outer\n",
    "def adder(a, b):\n",
    "    return a + b\n",
    "\n",
    "adder(10, 20)"
   ]
  },
  {
   "cell_type": "code",
   "execution_count": 26,
   "metadata": {},
   "outputs": [
    {
     "name": "stdout",
     "output_type": "stream",
     "text": [
      "30\n"
     ]
    }
   ],
   "source": [
    "def adder(a, b):\n",
    "    return a + b\n",
    "\n",
    "res = adder(10, 20)\n",
    "print(res)"
   ]
  },
  {
   "cell_type": "code",
   "execution_count": 23,
   "metadata": {},
   "outputs": [
    {
     "name": "stdout",
     "output_type": "stream",
     "text": [
      "a"
     ]
    },
    {
     "ename": "ZeroDivisionError",
     "evalue": "integer division or modulo by zero",
     "output_type": "error",
     "traceback": [
      "\u001b[0;31m---------------------------------------------------------------------------\u001b[0m",
      "\u001b[0;31mZeroDivisionError\u001b[0m                         Traceback (most recent call last)",
      "Cell \u001b[0;32mIn[23], line 17\u001b[0m\n\u001b[1;32m     13\u001b[0m     \u001b[38;5;28;01mreturn\u001b[39;00m coll[i]\n\u001b[1;32m     16\u001b[0m \u001b[38;5;28;01mfor\u001b[39;00m _ \u001b[38;5;129;01min\u001b[39;00m \u001b[38;5;28mrange\u001b[39m(\u001b[38;5;241m11\u001b[39m):\n\u001b[0;32m---> 17\u001b[0m     \u001b[38;5;28mprint\u001b[39m(\u001b[43mrandom\u001b[49m\u001b[43m(\u001b[49m\u001b[38;5;124;43m'\u001b[39;49m\u001b[38;5;124;43mabcdef0123456789xyzlompn\u001b[39;49m\u001b[38;5;124;43m'\u001b[39;49m\u001b[43m)\u001b[49m, end\u001b[38;5;241m=\u001b[39m\u001b[38;5;124m'\u001b[39m\u001b[38;5;124m'\u001b[39m)\n",
      "Cell \u001b[0;32mIn[23], line 11\u001b[0m, in \u001b[0;36mrandom\u001b[0;34m(coll)\u001b[0m\n\u001b[1;32m      9\u001b[0m     p \u001b[38;5;241m=\u001b[39m \u001b[38;5;129;01mnot\u001b[39;00m p\n\u001b[1;32m     10\u001b[0m \u001b[38;5;28;01melse\u001b[39;00m:\n\u001b[0;32m---> 11\u001b[0m     i \u001b[38;5;241m=\u001b[39m \u001b[43mn\u001b[49m\u001b[43m \u001b[49m\u001b[38;5;241;43m%\u001b[39;49m\u001b[43m \u001b[49m\u001b[43mi\u001b[49m \u001b[38;5;241m-\u001b[39m n \u001b[38;5;241m%\u001b[39m i\n\u001b[1;32m     12\u001b[0m     p \u001b[38;5;241m=\u001b[39m \u001b[38;5;129;01mnot\u001b[39;00m p\n\u001b[1;32m     13\u001b[0m \u001b[38;5;28;01mreturn\u001b[39;00m coll[i]\n",
      "\u001b[0;31mZeroDivisionError\u001b[0m: integer division or modulo by zero"
     ]
    }
   ],
   "source": [
    "i = 2\n",
    "p = True\n",
    "\n",
    "def random(coll):\n",
    "    global i, p\n",
    "    n = len(coll)\n",
    "    if p:\n",
    "        i = n % i + n % i\n",
    "        p = not p\n",
    "    else:\n",
    "        i = n % i - n % i\n",
    "        p = not p\n",
    "    return coll[i]\n",
    "    \n",
    "\n",
    "for _ in range(11):\n",
    "    print(random('abcdef0123456789xyzlompn'), end='')"
   ]
  },
  {
   "cell_type": "code",
   "execution_count": null,
   "metadata": {},
   "outputs": [],
   "source": []
  }
 ],
 "metadata": {
  "kernelspec": {
   "display_name": "Python 3.8.10 64-bit",
   "language": "python",
   "name": "python3"
  },
  "language_info": {
   "codemirror_mode": {
    "name": "ipython",
    "version": 3
   },
   "file_extension": ".py",
   "mimetype": "text/x-python",
   "name": "python",
   "nbconvert_exporter": "python",
   "pygments_lexer": "ipython3",
   "version": "3.8.10"
  },
  "orig_nbformat": 4,
  "vscode": {
   "interpreter": {
    "hash": "916dbcbb3f70747c44a77c7bcd40155683ae19c65e1c03b4aa3499c5328201f1"
   }
  }
 },
 "nbformat": 4,
 "nbformat_minor": 2
}
