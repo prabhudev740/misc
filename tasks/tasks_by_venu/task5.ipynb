{
 "cells": [
  {
   "cell_type": "code",
   "execution_count": null,
   "id": "cdfdf1fe",
   "metadata": {},
   "outputs": [],
   "source": []
  },
  {
   "cell_type": "code",
   "execution_count": 1,
   "id": "475c1406",
   "metadata": {},
   "outputs": [
    {
     "name": "stdout",
     "output_type": "stream",
     "text": [
      "6\n"
     ]
    }
   ],
   "source": [
    "# 1. Write a program in Python to find second highest number in an integer array\n",
    "# without using inbuilt functions.\n",
    "\n",
    "def find_second_highest(arr):\n",
    "    maximum  = second_max = 0\n",
    "    for num in arr:\n",
    "        if num >= maximum:\n",
    "            second_max  = maximum\n",
    "            maximum = num\n",
    "        else:\n",
    "            if num > second_max:\n",
    "                second_max = num\n",
    "    return second_max\n",
    "            \n",
    "print(find_second_highest([5, 8, 6]))"
   ]
  },
  {
   "cell_type": "code",
   "execution_count": 2,
   "id": "5a7dbb43",
   "metadata": {},
   "outputs": [
    {
     "name": "stdout",
     "output_type": "stream",
     "text": [
      "[1, 2, 3, 4]\n"
     ]
    }
   ],
   "source": [
    "# 2. Write a program in Python to remove duplicate elements form array without using\n",
    "# inbuilt function.\n",
    "\n",
    "def remove_duplicate(arr):\n",
    "    res = []\n",
    "    \n",
    "    for num in arr:\n",
    "        if num not in res:\n",
    "            res += [num]\n",
    "            \n",
    "    return res\n",
    "\n",
    "print(remove_duplicate([1, 2, 3, 4, 1, 2, 3, 4]))"
   ]
  },
  {
   "cell_type": "code",
   "execution_count": 3,
   "id": "18626143",
   "metadata": {},
   "outputs": [
    {
     "name": "stdout",
     "output_type": "stream",
     "text": [
      "[1, 2, 3, 4, 6]\n"
     ]
    }
   ],
   "source": [
    "# 3. Write Python Program to delete element from array at given index.\n",
    "\n",
    "def delete_element(arr, target_index):\n",
    "    res = []\n",
    "    \n",
    "    for index in range(len(arr)):\n",
    "        if index != target_index:\n",
    "            res += [arr[index]]\n",
    "    \n",
    "    return res\n",
    "\n",
    "print(delete_element([1, 2, 3, 4, 5, 6], 4))"
   ]
  },
  {
   "cell_type": "code",
   "execution_count": 4,
   "id": "487726de",
   "metadata": {},
   "outputs": [
    {
     "name": "stdout",
     "output_type": "stream",
     "text": [
      "[3, 4, 5, 1, 2]\n"
     ]
    }
   ],
   "source": [
    "# 4. Write Python program to perform left rotation of array elements by two positions.\n",
    "\n",
    "def left_rotate_by_2(arr):\n",
    "    res = []\n",
    "    \n",
    "    for num in arr[2:] + arr[:2]:\n",
    "        res.append(num)\n",
    "    return res\n",
    "\n",
    "print(left_rotate_by_2([1, 2, 3, 4, 5]))\n",
    "        "
   ]
  },
  {
   "cell_type": "code",
   "execution_count": 5,
   "id": "474ab7a6",
   "metadata": {},
   "outputs": [
    {
     "name": "stdout",
     "output_type": "stream",
     "text": [
      "[121, 361, 289]\n"
     ]
    }
   ],
   "source": [
    "# 5. From given list of numbers, create a list of square of prime numbers .\n",
    "# l1 = [1, 4, 6, 11,15, 24, 19, 25, 27, 30,17]\n",
    "\n",
    "def is_prime(num):\n",
    "    if num < 2:\n",
    "        return False\n",
    "    for i in range(2, num // 2 + 1):\n",
    "        if not num % i:\n",
    "            return False\n",
    "    return True\n",
    "\n",
    "def prime_square(lst):\n",
    "    res = []\n",
    "    \n",
    "    for num in lst:\n",
    "        if is_prime(num):\n",
    "            res.append(num ** 2)\n",
    "            \n",
    "    return res\n",
    "        \n",
    "l1 = [1, 4, 6, 11,15, 24, 19, 25, 27, 30,17]\n",
    "res = prime_square(l1)\n",
    "print(res)\n"
   ]
  },
  {
   "cell_type": "code",
   "execution_count": 6,
   "id": "cb599a85",
   "metadata": {},
   "outputs": [
    {
     "name": "stdout",
     "output_type": "stream",
     "text": [
      "599\n"
     ]
    }
   ],
   "source": [
    "# 6. Read a given file and extract the integers from each line, concatenate all the\n",
    "# integers present in the same line and print the sum of all these integers.\n",
    "# eg: <File content>\n",
    "# He is 32 yrs old and his son is 7 yrs old .\n",
    "# She is 27 yrs old and her daughter is 2 yrs old .\n",
    "# Output : 599 ## calculation : Integers on Line 1 + Line 2 = 327 + 272 = 599\n",
    "\n",
    "\n",
    "data = '''He is 32 yrs old and his son is 7 yrs old .\n",
    "She is 27 yrs old and her daughter is 2 yrs old .'''\n",
    "\n",
    "with open('file.txt', 'w') as fp:\n",
    "    fp.write(data)\n",
    "    \n",
    "with open('file.txt') as fp:\n",
    "    data = fp.readlines()\n",
    "    \n",
    "res = 0\n",
    "for line in data:\n",
    "    num = ''\n",
    "    for char in line:\n",
    "        if '0' <=char <= '9':\n",
    "            num += char\n",
    "    res += int(num)\n",
    "    \n",
    "print(res)"
   ]
  },
  {
   "cell_type": "code",
   "execution_count": 7,
   "id": "b4933650",
   "metadata": {},
   "outputs": [],
   "source": [
    "# 7. Reverse the below string without changing the position of special characters .\n",
    "# s = \"adfw$vf&yvy*ugv%uy\"\n"
   ]
  },
  {
   "cell_type": "code",
   "execution_count": 8,
   "id": "47c8fd14",
   "metadata": {},
   "outputs": [
    {
     "name": "stdout",
     "output_type": "stream",
     "text": [
      "************0046\n"
     ]
    }
   ],
   "source": [
    "# 8. Write a function in Python that accepts a credit card number. It should return a\n",
    "# string where all the characters are hidden with an asterisk except the last four.\n",
    "# For eg., if the credit card no. is “4509876278910046”, then function should return\n",
    "# “************0046”.\n",
    "\n",
    "\n",
    "card_no = '4509876278910046'\n",
    "res = ''\n",
    "l = len(card_no)\n",
    "\n",
    "for i in range(l):\n",
    "    if i + 4 < l:\n",
    "        res += '*'\n",
    "    else:\n",
    "        res += card_no[i]\n",
    "        \n",
    "print(res)"
   ]
  },
  {
   "cell_type": "code",
   "execution_count": 9,
   "id": "f87111ff",
   "metadata": {},
   "outputs": [
    {
     "data": {
      "text/plain": [
       "4.25"
      ]
     },
     "execution_count": 9,
     "metadata": {},
     "output_type": "execute_result"
    }
   ],
   "source": [
    "# 9. For the given sentence, return the average word length.\n",
    "# sentence = \"I need to work very hard to learn more about algorithms in Python!\"\n",
    "# Note: Remember to remove punctuation first.\n",
    "\n",
    "sentence =  \"I need to work very hard to learn more about algorithms in Python!\"\n",
    "sentence_list = [word.strip('!') for word in sentence.split()]\n",
    "word_counts = {word: len(word) for word in sentence_list}\n",
    "average_word_length = sum(word_counts.values()) / len(word_counts)\n",
    "average_word_length"
   ]
  },
  {
   "cell_type": "code",
   "execution_count": 10,
   "id": "7c44b744",
   "metadata": {},
   "outputs": [
    {
     "name": "stdout",
     "output_type": "stream",
     "text": [
      "[1, 2, 4, 6, 13, 56, 78]\n"
     ]
    }
   ],
   "source": [
    "# 10. Sort the list of integers in descending order without using inbuilt functions .\n",
    "# lst = [56,2,13,1,78,4,6]\n",
    "\n",
    "def bubble(A):\n",
    "    n = len(A)\n",
    "\n",
    "    for passes in range(n - 1, 0, -1):\n",
    "        for i in range(passes):\n",
    "            if A[i] > A[i + 1]:\n",
    "                A[i], A[i + 1] = A[i + 1], A[i]\n",
    "\n",
    "lst = [56,2,13,1,78,4,6]\n",
    "bubble(lst)\n",
    "print(lst)"
   ]
  },
  {
   "cell_type": "code",
   "execution_count": null,
   "id": "09cf7541",
   "metadata": {},
   "outputs": [],
   "source": []
  },
  {
   "cell_type": "code",
   "execution_count": 11,
   "id": "e30e5991",
   "metadata": {},
   "outputs": [
    {
     "name": "stdout",
     "output_type": "stream",
     "text": [
      "[64, 81, 100, 'ff', 25, 64, 'dd']\n"
     ]
    }
   ],
   "source": [
    "# 11. From the given list, check if the element is an integer then return square of that\n",
    "# element and if element is a string then return the same string 2 times. Output should\n",
    "# be in list format.\n",
    "# a = [8,9,10,\"f\",5,8,\"d\"]\n",
    "# Output should be : [64, 81, 100, 'ff', 25, 64, 'dd']\n",
    "def replacer(arr, index):\n",
    "    if index < len(arr):\n",
    "        if isinstance(arr[index], int):\n",
    "            arr[index] = arr[index] ** 2\n",
    "        elif isinstance(arr[index], str):\n",
    "            arr[index] += arr[index]\n",
    "        replacer(arr, index + 1)\n",
    "            \n",
    "a = [8,9,10,\"f\",5,8,\"d\"]\n",
    "replacer(a, 0)\n",
    "print(a)"
   ]
  },
  {
   "cell_type": "code",
   "execution_count": 12,
   "id": "8a533a6d",
   "metadata": {},
   "outputs": [],
   "source": [
    "\n",
    "# 12. Write a Python Program to Reverse the Content of a File.\n",
    "# Input :-\n",
    "# I am\n",
    "# new to this\n",
    "# world of\n",
    "# Python.\n",
    "# Output :-\n",
    "# Python.\n",
    "# world of\n",
    "# new to this\n",
    "# I am\n",
    "\n",
    "def create_file():\n",
    "    data = '''I am\n",
    "new to this\n",
    "world of\n",
    "Python.\n",
    "'''\n",
    "    with open('file.txt', 'w') as fp:\n",
    "        fp.write(data)\n",
    "        \n",
    "create_file()\n",
    "\n",
    "def fetch_file_content():\n",
    "    with open('file.txt') as fp:\n",
    "        content = fp.readlines()\n",
    "    return content\n",
    "\n",
    "data = fetch_file_content()\n",
    "\n",
    "with open('file.txt', 'w') as fp:\n",
    "    for line in range(len(data) - 1, -1, -1):\n",
    "        fp.write(data[line])"
   ]
  },
  {
   "cell_type": "code",
   "execution_count": 13,
   "id": "d56be563",
   "metadata": {},
   "outputs": [
    {
     "name": "stdout",
     "output_type": "stream",
     "text": [
      "invalid literal for int() with base 10: ''\n"
     ]
    }
   ],
   "source": [
    "# 13. Write a python program to take 2 inputs(numbers) from user. Divide the greater\n",
    "# number by the smaller number. Validate the user inputs, it should be integer type\n",
    "# only . If the input is not integer, raise exception and catch it. Also, if divisor is 0, catch\n",
    "# the exception raised.\n",
    "\n",
    "def get_greater_smaller(num1, num2):\n",
    "    if num1 >= num2:\n",
    "        return num1, num2\n",
    "    return num2, num1\n",
    "\n",
    "def are_ints(num1, num2):\n",
    "    if not isinstance(num1, int) and not isinstance(num2, int):\n",
    "        raise ValueError(\"Nums must be 'int' only\")\n",
    "\n",
    "def devide(num1, num2):\n",
    "    num1, num2 = int(num1), int(num2)\n",
    "    are_ints(num1, num2)\n",
    "    greater, smaller = get_greater_smaller(num1, num2)\n",
    "    return greater / smaller\n",
    "\n",
    "\n",
    "# num1, num2 = int(input()), int(input())\n",
    "num1, num2 = input(), input()\n",
    "try:\n",
    "    print(devide(num1, num2))\n",
    "except ValueError as e:\n",
    "    print( e)\n",
    "except ZeroDivisionError as e:\n",
    "    print( e)"
   ]
  },
  {
   "cell_type": "code",
   "execution_count": 14,
   "id": "9a5b0642",
   "metadata": {},
   "outputs": [
    {
     "name": "stdout",
     "output_type": "stream",
     "text": [
      "[1, 1, 1, 3, 3, 4]\n"
     ]
    }
   ],
   "source": [
    "# 14. In the given list, check if the element is None, replace it with the recent value .\n",
    "# l = [1,None,None,3,None,4]\n",
    "# Output should be : [1,1,1,3,3,4]\n",
    "\n",
    "def replace_none(arr):\n",
    "    for index, num in enumerate(arr):\n",
    "        if num is None:\n",
    "            arr[index] = prev\n",
    "        else:\n",
    "            prev = num\n",
    "            \n",
    "\n",
    "L =  [1,None,None,3,None,4]\n",
    "replace_none(L)\n",
    "print(L)"
   ]
  },
  {
   "cell_type": "code",
   "execution_count": 15,
   "id": "32146f10",
   "metadata": {},
   "outputs": [
    {
     "name": "stdout",
     "output_type": "stream",
     "text": [
      "{'data': 5, 'science': 3, 'artificial': 10, 'intelligence': 12}\n"
     ]
    }
   ],
   "source": [
    "# 15. Create a new dictionary using the list and dictionary defined below. The keys of\n",
    "# the new dictionary will be the elements in the list so we will iterate over the\n",
    "# elements in list. If the element is also in the dictionary, the value will be the values of\n",
    "# that key in the dictionary. Otherwise, the value will be the length of the key.\n",
    "# I/p:\n",
    "# lst = ['data','science','artificial', 'intelligence'] dct = {'data': 5, 'science': 3, 'machine':\n",
    "# 1, 'learning': 8}\n",
    "# O/p:\n",
    "# {'artificial': 10, 'data': 5, 'intelligence': 12, 'science': 3}\n",
    "\n",
    "def genrate_dict(lst, dct):\n",
    "    res = {}\n",
    "    for item in lst:\n",
    "        if item in dct:\n",
    "            res[item] = dct[item]\n",
    "        else:\n",
    "            res[item] = len(item)\n",
    "    return res\n",
    "\n",
    "\n",
    "lst = ['data','science','artificial', 'intelligence'] \n",
    "dct = {'data': 5, 'science': 3, 'machine': 1, 'learning': 8}\n",
    "\n",
    "res = genrate_dict(lst, dct)\n",
    "print(res)"
   ]
  },
  {
   "cell_type": "code",
   "execution_count": 16,
   "id": "2aeae506",
   "metadata": {},
   "outputs": [
    {
     "name": "stdout",
     "output_type": "stream",
     "text": [
      "radian_val is not numeric value. please enter the val again\n",
      "radian_val is not numeric value. please enter the val again\n",
      "radian_val is not numeric value. please enter the val again\n",
      "radian_val is not numeric value. please enter the val again\n",
      "radian_val is not numeric value. please enter the val again\n",
      "radian_val is not numeric value. please enter the val again\n",
      "radian_val is not numeric value. please enter the val again\n",
      "radian_val is not numeric value. please enter the val again\n",
      "radian_val is not numeric value. please enter the val again\n",
      "radian_val is not numeric value. please enter the val again\n",
      "radian_val is not numeric value. please enter the val again\n",
      "radian_val is not numeric value. please enter the val again\n",
      "radian_val is not numeric value. please enter the val again\n",
      "radian_val is not numeric value. please enter the val again\n",
      "radian_val is not numeric value. please enter the val again\n",
      "radian_val is not numeric value. please enter the val again\n",
      "radian_val is not numeric value. please enter the val again\n",
      "radian_val is not numeric value. please enter the val again\n",
      "radian_val is not numeric value. please enter the val again\n",
      "radian_val is not numeric value. please enter the val again\n",
      "radian_val is not numeric value. please enter the val again\n",
      "radian_val is not numeric value. please enter the val again\n",
      "radian_val is not numeric value. please enter the val again\n",
      "radian_val is not numeric value. please enter the val again\n",
      "radian_val is not numeric value. please enter the val again\n",
      "radian_val is not numeric value. please enter the val again\n",
      "radian_val is not numeric value. please enter the val again\n",
      "radian_val is not numeric value. please enter the val again\n",
      "radian_val is not numeric value. please enter the val again\n",
      "radian_val is not numeric value. please enter the val again\n",
      "radian_val is not numeric value. please enter the val again\n",
      "radian_val is not numeric value. please enter the val again\n",
      "radian_val is not numeric value. please enter the val again\n",
      "radian_val is not numeric value. please enter the val again\n",
      "radian_val is not numeric value. please enter the val again\n",
      "radian_val is not numeric value. please enter the val again\n",
      "radian_val is not numeric value. please enter the val again\n",
      "radian_val is not numeric value. please enter the val again\n",
      "radian_val is not numeric value. please enter the val again\n",
      "radian_val is not numeric value. please enter the val again\n",
      "radian_val is not numeric value. please enter the val again\n",
      "radian_val is not numeric value. please enter the val again\n",
      "radian_val is not numeric value. please enter the val again\n",
      "radian_val is not numeric value. please enter the val again\n",
      "radian_val is not numeric value. please enter the val again\n",
      "radian_val is not numeric value. please enter the val again\n",
      "57.324840764331206\n"
     ]
    }
   ],
   "source": [
    "# 16. Write a function in Python that accepts one numeric parameter. This parameter\n",
    "# will be the measure of an angle in radians. The function should convert the radians\n",
    "# into degrees and then return that value. Do not use inbuilt functions.\n",
    "# Note : Angle in Radians × 180°/π = Angle in Degrees.\n",
    "\n",
    "def radians_todeg(radian_val):    \n",
    "    deg = radian_val * 180  / 3.14\n",
    "    \n",
    "    return deg\n",
    "\n",
    "while True:\n",
    "    radian_val = input('Enter radian_val: ')\n",
    "    \n",
    "    if radian_val.replace('.', '').isnumeric():\n",
    "        deg = radians_todeg(float(radian_val))\n",
    "        print(deg)\n",
    "        break\n",
    "        \n",
    "    print('radian_val is not numeric value. please enter the val again')"
   ]
  },
  {
   "cell_type": "code",
   "execution_count": 17,
   "id": "ff656d96",
   "metadata": {},
   "outputs": [
    {
     "name": "stdout",
     "output_type": "stream",
     "text": [
      "Team2\n"
     ]
    }
   ],
   "source": [
    "# 17. Create a function that takes the number of wins, draws and losses and calculates\n",
    "# the number of points obtained so far for 'n' number of football teams . Print the\n",
    "# winner team in the end .\n",
    "# wins get +3 points, draws get +1 point, losses get -1 points .\n",
    "# I/p:\n",
    "# Team1(3, 4, 2) ## calculation : 33 +41 + 2(-1) = 11\n",
    "# Team2(5, 0, 2) ## calculation : 53 + 01 + 2(-1) = 13\n",
    "# Team3(0, 0, 1) ## calculation : 03 + 01 + 1(-1) = -1\n",
    "# O/p:\n",
    "# Winner: Team2\n",
    "\n",
    "def get_points(result):\n",
    "    return result[0] * 3 + result[1] * 1 + result[2] * -1\n",
    "\n",
    "def find_winner(team_result):\n",
    "    winner, wpoint = None, 0\n",
    "    \n",
    "    for team, result in team_result.items():\n",
    "        point = get_points(result)\n",
    "        \n",
    "        if point > wpoint:\n",
    "            wpoint = point\n",
    "            winner = team\n",
    "            \n",
    "    return winner\n",
    "    \n",
    "\n",
    "team_result = {'Team1': [3, 4, 2], \"Team2\": (5, 0, 2), 'Team3': (0, 0, 1)}\n",
    "print(find_winner(team_result))"
   ]
  },
  {
   "cell_type": "code",
   "execution_count": 19,
   "id": "7ecb2a75",
   "metadata": {},
   "outputs": [
    {
     "name": "stdout",
     "output_type": "stream",
     "text": [
      "Kyle\n"
     ]
    }
   ],
   "source": [
    "# 18. dct = {111: \"Eric\", 112: \"Kyle\", 113: \"Butters\"}\n",
    "# Load the above dictionary variable in a file 'test.txt' . Now create a new dictionary\n",
    "# variable (eg. dct2) and load the contents of the file 'test.txt' in it. Print the value of\n",
    "# key '112' using the new dictionary variable .\n",
    "# Note : Use pickling for solving this question.\n",
    "# O/p : Kyle\n",
    "import pickle\n",
    "\n",
    "dct = {111: \"Eric\", 112: \"Kyle\", 113: \"Butters\"}\n",
    "\n",
    "with open('test.txt', 'wb') as fp:\n",
    "    pickle.dump(dct, fp)\n",
    "    \n",
    "with open('test.txt', 'rb') as fp:\n",
    "    x = pickle.load(fp)\n",
    "    \n",
    "print(x[112])"
   ]
  },
  {
   "cell_type": "code",
   "execution_count": 193,
   "id": "c09dc058",
   "metadata": {},
   "outputs": [
    {
     "name": "stdout",
     "output_type": "stream",
     "text": [
      "2020 01 15 09:03:32.744178\n"
     ]
    }
   ],
   "source": [
    "# 19. Write a Python program to extract year, month, date and time using Lambda.\n",
    "# I/p:\n",
    "# 2020-01-15 09:03:32.744178\n",
    "# O/p :\n",
    "# Year : 2020\n",
    "# Month : 1\n",
    "# Day : 15\n",
    "# Time : 09:03:32.744178\n",
    "\n",
    "datetime = '2020-01-15 09:03:32.744178'\n",
    "get_date_and_time = lambda data: tuple(data.split())\n",
    "date, time = get_date_and_time(datetime)\n",
    "split_date = lambda date: date.split('-')\n",
    "day, month, year = split_date(date)\n",
    "print(day, month, year, time)"
   ]
  },
  {
   "cell_type": "code",
   "execution_count": 201,
   "id": "946487af",
   "metadata": {},
   "outputs": [
    {
     "name": "stdout",
     "output_type": "stream",
     "text": [
      "[2, 3, 4, 5, 6, 7, 8, 9, 10, 12, 14, 15, 16, 18, 20, 21, 22, 24, 25, 26, 27, 28, 30, 32, 33, 34, 35, 36, 38, 39, 40, 42, 44, 45, 46, 48, 49, 50, 51, 52, 54, 55, 56, 57, 58, 60, 62, 63, 64, 65, 66, 68, 69, 70, 72, 74, 75, 76, 77, 78, 80, 81, 82, 84, 85, 86, 87, 88, 90, 91, 92, 93, 94, 95, 96, 98, 99, 100, 102, 104, 105, 106, 108, 110, 111, 112, 114, 115, 116, 117, 118, 119, 120, 122, 123, 124, 125, 126, 128, 129, 130, 132, 133, 134, 135, 136, 138, 140, 141, 142, 144, 145, 146, 147, 148, 150, 152, 153, 154, 155, 156, 158, 159, 160, 161, 162, 164, 165, 166, 168, 170, 171, 172, 174, 175, 176, 177, 178, 180, 182, 183, 184, 185, 186, 188, 189, 190, 192, 194, 195, 196, 198, 200, 201, 202, 203, 204, 205, 206, 207, 208, 210, 212, 213, 214, 215, 216, 217, 218, 219, 220, 222, 224, 225, 226, 228, 230, 231, 232, 234, 235, 236, 237, 238, 240, 242, 243, 244, 245, 246, 248, 249, 250, 252, 254, 255, 256, 258, 259, 260, 261, 262, 264, 265, 266, 267, 268, 270, 272, 273, 274, 275, 276, 278, 279, 280, 282, 284, 285, 286, 287, 288, 290, 291, 292, 294, 295, 296, 297, 298, 300, 301, 302, 303, 304, 305, 306, 308, 309, 310, 312, 314, 315, 316, 318, 320, 321, 322, 324, 325, 326, 327, 328, 329, 330, 332, 333, 334, 335, 336, 338, 339, 340, 342, 343, 344, 345, 346, 348, 350, 351, 352, 354, 355, 356, 357, 358, 360, 362, 363, 364, 365, 366, 368, 369, 370, 371, 372, 374, 375, 376, 378, 380, 381, 382, 384, 385, 386, 387, 388, 390, 392, 393, 394, 395, 396, 398, 399, 400, 402, 404, 405, 406, 408, 410, 411, 412, 413, 414, 415, 416, 417, 418, 420, 422, 423, 424, 425, 426, 427, 428, 429, 430, 432, 434, 435, 436, 438, 440, 441, 442, 444, 445, 446, 447, 448, 450, 452, 453, 454, 455, 456, 458, 459, 460, 462, 464, 465, 466, 468, 469, 470, 471, 472, 474, 475, 476, 477, 478, 480, 482, 483, 484, 485, 486, 488, 489, 490, 492, 494, 495, 496, 497, 498, 500, 501, 502, 504, 505, 506, 507, 508, 510, 511, 512, 513, 514, 515, 516, 518, 519, 520, 522, 524, 525, 526, 528, 530, 531, 532, 534, 535, 536, 537, 538, 539, 540, 542, 543, 544, 545, 546, 548, 549, 550, 552, 553, 554, 555, 556, 558, 560, 561, 562, 564, 565, 566, 567, 568, 570, 572, 573, 574, 575, 576, 578, 579, 580, 581, 582, 584, 585, 586, 588, 590, 591, 592, 594, 595, 596, 597, 598, 600, 602, 603, 604, 605, 606, 608, 609, 610, 612, 614, 615, 616, 618, 620, 621, 622, 623, 624, 625, 626, 627, 628, 630, 632, 633, 634, 635, 636, 637, 638, 639, 640, 642, 644, 645, 646, 648, 650, 651, 652, 654, 655, 656, 657, 658, 660, 662, 663, 664, 665, 666, 668, 669, 670, 672, 674, 675, 676, 678, 679, 680, 681, 682, 684, 685, 686, 687, 688, 690, 692, 693, 694, 695, 696, 698, 699, 700, 702, 704, 705, 706, 707, 708, 710, 711, 712, 714, 715, 716, 717, 718, 720, 721, 722, 723, 724, 725, 726, 728, 729, 730, 732, 734, 735, 736, 738, 740, 741, 742, 744, 745, 746, 747, 748, 749, 750, 752, 753, 754, 755, 756, 758, 759, 760, 762, 763, 764, 765, 766, 768, 770, 771, 772, 774, 775, 776, 777, 778, 780, 782, 783, 784, 785, 786, 788, 789, 790, 791, 792, 794, 795, 796, 798, 800, 801, 802, 804, 805, 806, 807, 808, 810, 812, 813, 814, 815, 816, 818, 819, 820, 822, 824, 825, 826, 828, 830, 831, 832, 833, 834, 835, 836, 837, 838, 840, 842, 843, 844, 845, 846, 847, 848, 849, 850, 852, 854, 855, 856, 858, 860, 861, 862, 864, 865, 866, 867, 868, 870, 872, 873, 874, 875, 876, 878, 879, 880, 882, 884, 885, 886, 888, 889, 890, 891, 892, 894, 895, 896, 897, 898, 900, 902, 903, 904, 905, 906, 908, 909, 910, 912, 914, 915, 916, 917, 918, 920, 921, 922, 924, 925, 926, 927, 928, 930, 931, 932, 933, 934, 935, 936, 938, 939, 940, 942, 944, 945, 946, 948, 950, 951, 952, 954, 955, 956, 957, 958, 959, 960, 962, 963, 964, 965, 966, 968, 969, 970, 972, 973, 974, 975, 976, 978, 980, 981, 982, 984, 985, 986, 987, 988, 990, 992, 993, 994, 995, 996, 998, 999, 1000]\n",
      "[2, 3, 4, 5, 6, 7, 8, 9, 10, 12, 14, 15, 16, 18, 20, 21, 22, 24, 25, 26, 27, 28, 30, 32, 33, 34, 35, 36, 38, 39, 40, 42, 44, 45, 46, 48, 49]\n"
     ]
    }
   ],
   "source": [
    "# 20. Use a nested list comprehension to find all of the numbers from 1-1000 that are\n",
    "# divisible by any single digit besides 1 (2-9)\n",
    "res = []\n",
    "for num in range(1, 50):\n",
    "    for v in range(2, 10):\n",
    "        if num in res:\n",
    "            break\n",
    "        if not num % v:\n",
    "            res.append(num)\n",
    "            break\n",
    "\n",
    "# res = [num for val in range(2, 10) for num in range(1, 1000) if num % val == 0]\n",
    "res = [num  for num in range(1, 1001) if any (not num % v for v in range(2, 10))]\n",
    "print(res)\n",
    " \n",
    "x = [2, 3, 4, 5, 6, 7, 8, 9, 10, 12, 14, 15, 16, 18, 20, 21, 22, 24, 25, 26, 27, 28, 30, 32, 33, 34, 35, 36, 38, 39, 40, 42, 44, 45, 46, 48, 49]\n",
    "print(x)"
   ]
  },
  {
   "cell_type": "code",
   "execution_count": 101,
   "id": "267f1fbf",
   "metadata": {},
   "outputs": [],
   "source": [
    "# 21. Write a program that takes one or more filenames as arguments and prints all\n",
    "# the lines which are longer than 40 characters. Note :Use generator to solve this\n",
    "# question.\n",
    "\n",
    "def genrate_lines(*args):\n",
    "    for file in args:\n",
    "        with open(file) as fp:\n",
    "            data = fp.readlines()\n",
    "            for line in data:\n",
    "                if '\\n' in line and len(line) - 1 > 40:\n",
    "                    yield line[:len(line) - 1]\n",
    "                elif '\\n' not in line and len(line) > 40:\n",
    "                    yield line\n",
    "                    \n",
    "\n",
    "for line in genrate_lines('file.txt', 'file1.txt'):\n",
    "    print(line)\n"
   ]
  },
  {
   "cell_type": "code",
   "execution_count": 66,
   "id": "461462c4",
   "metadata": {},
   "outputs": [],
   "source": [
    "# 22. Print the following rhombus pattern .\n",
    "# eg. If input is 4, it should print the following output .\n",
    "\n"
   ]
  },
  {
   "cell_type": "code",
   "execution_count": 1,
   "id": "8131f5db",
   "metadata": {},
   "outputs": [
    {
     "name": "stdout",
     "output_type": "stream",
     "text": [
      "                    *\n",
      "                   *_*\n",
      "                  *___*\n",
      "                 *_____*\n",
      "                *_______*\n",
      "               *_________*\n",
      "              *___________*\n",
      "             *_____________*\n",
      "            *_______________*\n",
      "           *_________________*\n",
      "          *___________________*\n",
      "         *_____________________*\n",
      "        *_______________________*\n",
      "       *_________________________*\n",
      "      *___________________________*\n",
      "     *_____________________________*\n",
      "    *_______________________________*\n",
      "   *_________________________________*\n",
      "  *___________________________________*\n",
      " *_____________________________________*\n",
      "*_______________________________________*\n"
     ]
    }
   ],
   "source": [
    "# 23. Print the following pattern :\n",
    "#     *\n",
    "#    *_*\n",
    "#   *___*\n",
    "#  *_____*\n",
    "n = 20\n",
    "for row in range(n + 1):\n",
    "    print((n - row) * ' ', end = '')\n",
    "    print('*', end = \"\")\n",
    "    print('_' * (2 * row -1), end='')\n",
    "    \n",
    "    if row:\n",
    "        print('*', end ='')\n",
    "    print()"
   ]
  },
  {
   "cell_type": "code",
   "execution_count": 181,
   "id": "67f7f7ae",
   "metadata": {},
   "outputs": [],
   "source": [
    "# 24. Write a Python class Restaurant with attributes like menu_items, book_table,\n",
    "# and customer_orders, and methods like add_item_to_menu, book_tables, and\n",
    "# customer_order. Perform the following tasks now:\n",
    "# - Now add items to the menu.\n",
    "# - Make table reservations.\n",
    "# - Take customer orders.\n",
    "# - Print the menu.\n",
    "# - Print table reservations.\n",
    "# - Print customer orders.\n",
    "# Note : Use dictionaries and lists to store the data.\n"
   ]
  },
  {
   "cell_type": "code",
   "execution_count": 182,
   "id": "357ccd3f",
   "metadata": {},
   "outputs": [],
   "source": [
    "# 25. Write a function that employs regular expressions to ensure the password given\n",
    "# to the function is strong. A strong password is defined as follows:\n",
    "# -at least eight characters long\n",
    "# -contains one uppercase character\n",
    "# -contains one lowercase character\n",
    "# -has at least one digit\n",
    "# -has at least one special character\n"
   ]
  },
  {
   "cell_type": "code",
   "execution_count": 183,
   "id": "704a3095",
   "metadata": {},
   "outputs": [],
   "source": [
    "# 26. Check sum of 2 numbers from given list which matches target value and returns\n",
    "# the indexes of those numbers in the form of list.A\n",
    "# l1 = [ 7,8,2,3,6,9,2,8]\n",
    "# Target = 14\n",
    "# O/p should be: [1,4]\n",
    "# Note : We should not be using more than 1 loop.\n"
   ]
  },
  {
   "cell_type": "code",
   "execution_count": 184,
   "id": "74e28b7a",
   "metadata": {},
   "outputs": [],
   "source": [
    "# 27. For any function, find out the arguments passed in the function using in-built\n",
    "# python module and also explore on all other possible values we can get using the\n",
    "# same python module.\n",
    "# eg. def test(x1, x2, x3=10):\n",
    "# pass\n",
    "# Using the in-built python module, find all the arguments passed in the test function.\n"
   ]
  },
  {
   "cell_type": "code",
   "execution_count": 185,
   "id": "4e2c48bd",
   "metadata": {},
   "outputs": [],
   "source": [
    "# 28. Open the site “carwale.com” , search “Tata Nexon” and go to version tab.\n",
    "# Print the version name and its price.\n",
    "# Note: You can use selenium for solving this question.\n"
   ]
  },
  {
   "cell_type": "code",
   "execution_count": 186,
   "id": "bc8acb68",
   "metadata": {},
   "outputs": [],
   "source": [
    "# 29. Open flipkart site and search for \"mobile phones\". Filter with brand name as\n",
    "# \"samsung\" and \"Flipkart assured\" tag. In the list obtained, print the name and price\n",
    "# of the 2nd mobile phone .\n",
    "# Note : You can use selenium for solving this question.\n"
   ]
  },
  {
   "cell_type": "code",
   "execution_count": 187,
   "id": "547b8347",
   "metadata": {},
   "outputs": [],
   "source": [
    "# 30. Create below 3 functions :\n",
    "# - function 1 calculates sqrt\n",
    "# - function 2 calculates cube\n",
    "# - function 3 calculates square\n",
    "# Pass 50,00,000 as an integer argument which is going to be used as a range of\n",
    "# integers.\n",
    "# Call above 3 functions in parallel using below 3 ways :\n",
    "# 1) Using multiprocessing\n",
    "# 2) Using threading.thread\n",
    "# 3) Using threadpoolexecutor\n",
    "# Calculate the total time taken in each of these 3 ways .\n",
    "\n",
    "\n"
   ]
  },
  {
   "cell_type": "code",
   "execution_count": null,
   "id": "a96eeb0c",
   "metadata": {},
   "outputs": [],
   "source": []
  }
 ],
 "metadata": {
  "kernelspec": {
   "display_name": "Python 3.8.10 64-bit",
   "language": "python",
   "name": "python3"
  },
  "language_info": {
   "codemirror_mode": {
    "name": "ipython",
    "version": 3
   },
   "file_extension": ".py",
   "mimetype": "text/x-python",
   "name": "python",
   "nbconvert_exporter": "python",
   "pygments_lexer": "ipython3",
   "version": "3.8.10"
  },
  "vscode": {
   "interpreter": {
    "hash": "916dbcbb3f70747c44a77c7bcd40155683ae19c65e1c03b4aa3499c5328201f1"
   }
  }
 },
 "nbformat": 4,
 "nbformat_minor": 5
}
