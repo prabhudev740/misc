{
 "cells": [
  {
   "cell_type": "code",
   "execution_count": 24,
   "metadata": {},
   "outputs": [
    {
     "name": "stdout",
     "output_type": "stream",
     "text": [
      "a1b1c123\n",
      "a29a2\n",
      "a2b224c38d2b2c1a11\n"
     ]
    }
   ],
   "source": [
    "def solution(s):\n",
    "    res = temp = \"\"\n",
    "    count = 0\n",
    "\n",
    "    for i, v in enumerate(s):\n",
    "        if v.isalpha():\n",
    "            if not count:\n",
    "                temp = v\n",
    "                res += v\n",
    "                count = 1\n",
    "            else:\n",
    "                if temp == v:\n",
    "                    count +=1\n",
    "                else:\n",
    "                    res += str(count)\n",
    "                    temp = v\n",
    "                    res += v\n",
    "                    count = 1\n",
    "            if i == len(s) - 1:\n",
    "                res += str(count)\n",
    "        else:\n",
    "            if count:\n",
    "                res += str(count)\n",
    "                count = 0\n",
    "\n",
    "            res += v \n",
    "\n",
    "    return res\n",
    "\n",
    "\n",
    "print(solution(\"abc23\")) #a1b1c123\n",
    "print(solution(\"aa9aa\")) #a29a1\n",
    "print(solution(\"aabb24ccc8ddbbca1\")) #a2b224c38d2b2c1a11"
   ]
  },
  {
   "cell_type": "code",
   "execution_count": null,
   "metadata": {},
   "outputs": [],
   "source": [
    "# 1. What are the differences between list and tuple? Which is faster and why? \n",
    "# 2. What is the lambda function in python? Explain with examples.\n",
    "# 3. What is monkey patching and what is the use of monkey patch?\n",
    "\n",
    "# 4. Write a python program to right rotate a List by n Enter position to rotate list item: 3 \n",
    "# Sample input: [10, 20, 30, 40, 50, 60, 70] \n",
    "# Expected output: [50, 60, 70, 10, 20, 30, 40]"
   ]
  },
  {
   "cell_type": "markdown",
   "metadata": {},
   "source": [
    "Question 1"
   ]
  },
  {
   "cell_type": "markdown",
   "metadata": {},
   "source": [
    "#### list and tuple both are ordered collection datatypes and both can store hetrogeinus datatypes\n",
    "\n",
    "#### list : Values are separated by comma and stored inside '[]'\n",
    "####            Example: [1, 2, 3], [0, True, \"abc\"], [[0.5, False], \"abc\"], [1], etc\n",
    "    \n",
    "####        These are mutable. i.e. we can modify them after initialize.\n",
    "####            Operation: append, pop, insert, extend, remove, etc\n",
    "####        Used for storing data which can be modified later or we can add or remove data from collection.\n",
    "\n",
    "####        Default value -> []\n",
    "####        Represented as -> 'list'\n",
    "\n",
    "\n",
    "#### tuple : Values are separated by comma and stored inside '()'\n",
    "####            Example: (1, 2, 3), (0, True, \"abc\"), ([0.5, False], \"abc\"), (1, ), etc\n",
    "    \n",
    "####         These are immutable. i.e. we can't modify them after initialize.\n",
    "####         Used for storing data which later can't be modified, like- points, time, etc\n",
    "\n",
    "####         Default value -> ()\n",
    "####         Represented as -> 'tuple'\n",
    "\n",
    "\n",
    "#### Here tuple is more faster because it is immutable datatype which is more optimised by interpreter."
   ]
  },
  {
   "cell_type": "markdown",
   "metadata": {},
   "source": [
    "Question 2"
   ]
  },
  {
   "cell_type": "markdown",
   "metadata": {},
   "source": [
    "### These are the annonyus functions\n",
    "### these will declared with 'lambda' keywords.\n",
    "### Syntax:- lambda args: statement\n",
    "\n",
    "### Ex: get_square = lambda a: a * a\n",
    "\n",
    "### Best place to use these in function which takes or return a function. like map() and filter(), etc.\n",
    "### suppose we want to take a list of number and from that we have get another list with bool value\n",
    "### i.e. result list will store True if val is even or False if val is odd.\n",
    "\n",
    "### arr = [1, 2, 3, 4, 5]\n",
    "### res = list(map(lambda a: a % 2 == 0, arr))"
   ]
  },
  {
   "cell_type": "code",
   "execution_count": 17,
   "metadata": {},
   "outputs": [
    {
     "data": {
      "text/plain": [
       "[False, True, False, True, False]"
      ]
     },
     "execution_count": 17,
     "metadata": {},
     "output_type": "execute_result"
    }
   ],
   "source": [
    "arr = [1, 2, 3, 4, 5]\n",
    "res = list(map(lambda a: a % 2 == 0, arr))\n",
    "res"
   ]
  },
  {
   "cell_type": "markdown",
   "metadata": {},
   "source": [
    "Question 3"
   ]
  },
  {
   "cell_type": "markdown",
   "metadata": {},
   "source": [
    "### Monkey patching is used to change behaviour of attribute of a class or object at runtime.\n",
    "### This is helpful when we to execute the progrem with dummy data instead of real data."
   ]
  },
  {
   "cell_type": "code",
   "execution_count": 27,
   "metadata": {},
   "outputs": [
    {
     "name": "stdout",
     "output_type": "stream",
     "text": [
      "account bal is: 5000 rs\n"
     ]
    }
   ],
   "source": [
    "class Bank:\n",
    "    def __init__(self, bal):\n",
    "        self.account_bal = bal\n",
    "\n",
    "    def display(self):\n",
    "        print(f\"account bal is: {self.account_bal} rs\")\n",
    "\n",
    "cust1 = Bank(5000)\n",
    "# cust1.display() # this will print the account bal and some reson we want to exeute a dummy func\n",
    "\n",
    "def dummy_display(arg):\n",
    "    print(\"This is dummy bal: 0 rs\")\n",
    "\n",
    "Bank.display = dummy_display  # monkey patching\n",
    "cust1.display()"
   ]
  },
  {
   "cell_type": "markdown",
   "metadata": {},
   "source": [
    "Question 4"
   ]
  },
  {
   "cell_type": "code",
   "execution_count": 15,
   "metadata": {},
   "outputs": [
    {
     "name": "stdout",
     "output_type": "stream",
     "text": [
      "[50, 60, 70, 10, 20, 30, 40]\n",
      "[50, 60, 70, 10, 20, 30, 40]\n",
      "[50, 60, 70, 10, 20, 30, 40]\n"
     ]
    }
   ],
   "source": [
    "x = [10, 20, 30, 40, 50, 60, 70]\n",
    "i = 3\n",
    "\n",
    "#* ==== method 1 ====\n",
    "res = []\n",
    "\n",
    "for j in x[i+1:]:\n",
    "    res.append(j)\n",
    "res.extend(x[:i+1])\n",
    "\n",
    "print(res)\n",
    "\n",
    "\n",
    "#* ==== method 2 ====\n",
    "res = x[i+1:] + x[:i+1]\n",
    "print(res)\n",
    "\n",
    "\n",
    "#* ==== method 3 ====\n",
    "from collections import deque\n",
    "\n",
    "l = deque(x)\n",
    "l.rotate(-i-1)\n",
    "print(list(l))\n",
    "\n"
   ]
  },
  {
   "cell_type": "code",
   "execution_count": 26,
   "metadata": {},
   "outputs": [],
   "source": [
    "class Test:\n",
    "    def test_display(self):\n",
    "        print('this is the original method')\n",
    "    def check_even(self, num):\n",
    "        if num %2 == 0:\n",
    "            print(\"num is even\")\n",
    "    \n",
    "\n",
    "t = Test()\n",
    "# t.test_display()\n",
    "num = 11\n",
    "t.check_even(num)\n"
   ]
  },
  {
   "cell_type": "code",
   "execution_count": null,
   "metadata": {},
   "outputs": [],
   "source": [
    "# 1. Write a program to reverse a number without using any inbuit function.\n",
    "# 2. Given a list of first 10 natural numbers, write a program to find the square of all even numbers \n",
    "# and cube of all odd numbers and store them in another list\n",
    "\n"
   ]
  },
  {
   "cell_type": "code",
   "execution_count": 35,
   "metadata": {},
   "outputs": [
    {
     "name": "stdout",
     "output_type": "stream",
     "text": [
      "345\n"
     ]
    }
   ],
   "source": [
    "num = int(input(\"Enter a number\"))\n",
    "res = 0\n",
    "\n",
    "while num:\n",
    "    res = res * 10 + num % 10\n",
    "    num //= 10\n",
    "\n",
    "print(res)"
   ]
  },
  {
   "cell_type": "code",
   "execution_count": 36,
   "metadata": {},
   "outputs": [
    {
     "name": "stdout",
     "output_type": "stream",
     "text": [
      "[1, 4, 27, 16, 125, 36, 343, 64, 729, 100]\n"
     ]
    }
   ],
   "source": [
    "arr = [1, 2, 3, 4, 5, 6, 7, 8, 9, 10]\n",
    "res = []\n",
    "\n",
    "for num in arr:\n",
    "    if num % 2:\n",
    "        res.append(num ** 3)\n",
    "    else:\n",
    "        res.append(num ** 2)\n",
    "\n",
    "print(res)"
   ]
  },
  {
   "cell_type": "code",
   "execution_count": null,
   "metadata": {},
   "outputs": [],
   "source": [
    "# 4. What is the importance of PEP rules \n",
    "# 5. Can we order a dictionary? How? \n",
    "# 7. Difference between append and extend operations of list \n",
    "# 8. Create a dictionary where the key is an even number from the given list and the value \n",
    "# will be the occurrence of that element in the list. input= [1,2,3,2,4,2,4,7,8,4,5,8,6,9,2] \n",
    "# 9. Write a function swap_element that contains two args which will be the position of \n",
    "# elements present in the list. The function must swap the elements present in those \n",
    "# positions. \n",
    "# Input: [1,2,3,4,5,6,7,8] function: swap_element(arg1, arg2) \n",
    "# 10. Write the output of the program: \n",
    "# match = ‘version’, input=’Upgraded_image_version_8.0.4.3’ \n",
    "# if match in input: \n",
    "# print(‘YES’) \n",
    "# else: \n",
    "# print(‘NO’)"
   ]
  },
  {
   "cell_type": "markdown",
   "metadata": {},
   "source": [
    "Solution 4 - PEP rules"
   ]
  },
  {
   "cell_type": "markdown",
   "metadata": {},
   "source": [
    "PEP stands for Python Enhancement Proposal\n",
    "\n",
    "These are the set of guidlines and recommendations a developer can follow to write clean codes.\n",
    "These rules have some standards, if we follow them other developers can read our codes easily\n",
    "\n",
    "This is important to apply PEP rules, because it increseases readability and consistency in our code and\n",
    "alse makes our codes compatible with other libraries and frameworks"
   ]
  },
  {
   "cell_type": "markdown",
   "metadata": {},
   "source": [
    "Can we order a dict?"
   ]
  },
  {
   "cell_type": "markdown",
   "metadata": {},
   "source": [
    "Yes, There is OrderedDict, this is a dict which can keet the order of keys as they inserted in dict\n",
    "\n",
    "Previously, python dict was storing the data random way. But now after Python 3.7 Python \n",
    "also stores data in ordered manner.\n",
    "\n",
    "We can sort a dict using sorted() function."
   ]
  },
  {
   "cell_type": "code",
   "execution_count": 4,
   "metadata": {},
   "outputs": [
    {
     "name": "stdout",
     "output_type": "stream",
     "text": [
      "{'Vijay': 2, 'Ajay': 3, 'Sanjay': 1}\n",
      "{'Ajay': 3, 'Sanjay': 1, 'Vijay': 2}\n"
     ]
    }
   ],
   "source": [
    "name_counts = {\"Vijay\": 2, \"Ajay\": 3, \"Sanjay\":1}\n",
    "print(name_counts)\n",
    "\n",
    "ordered_name_counts = dict(sorted(name_counts.items()))\n",
    "print(ordered_name_counts)"
   ]
  },
  {
   "cell_type": "markdown",
   "metadata": {},
   "source": [
    " Difference between append and extend operations of list "
   ]
  },
  {
   "cell_type": "markdown",
   "metadata": {},
   "source": [
    "append and extend both are list methods\n",
    "\n",
    "while append will add one element at the end of list object, entend is used to add a collection\n",
    "element to the end of list objrct.\n",
    "\n",
    "append will take a object and add at the end\n",
    "extend will take a collection add all the element to at the end of list\n",
    "\n",
    "both will not return anything, i.e. they will make the change inplace without creating new list.\n",
    "\n",
    "Examples are given below."
   ]
  },
  {
   "cell_type": "code",
   "execution_count": 6,
   "metadata": {},
   "outputs": [
    {
     "name": "stdout",
     "output_type": "stream",
     "text": [
      "num list before append: [1, 2, 3, 4]\n",
      "num list after append: [1, 2, 3, 4, 10]\n"
     ]
    }
   ],
   "source": [
    "num_list = [1, 2, 3, 4]\n",
    "\n",
    "new_num = int(input())\n",
    "print(f\"num list before append: {num_list}\")\n",
    "num_list.append(new_num)\n",
    "print(f\"num list after append: {num_list}\")"
   ]
  },
  {
   "cell_type": "code",
   "execution_count": 10,
   "metadata": {},
   "outputs": [
    {
     "name": "stdout",
     "output_type": "stream",
     "text": [
      "originalnum list: [1, 2, 3, 4]\n",
      "after extendinag a list to num list: [1, 2, 3, 4]\n"
     ]
    }
   ],
   "source": [
    "num_list = [1, 2, 3, 4]\n",
    "\n",
    "new_list = [100, 200, 300]\n",
    "print(f\"originalnum list: {num_list}\")\n",
    "print(f\"after extendinag a list to num list: {num_list}\")\n",
    "num_list.extend(new_list)"
   ]
  },
  {
   "cell_type": "code",
   "execution_count": 13,
   "metadata": {},
   "outputs": [
    {
     "name": "stdout",
     "output_type": "stream",
     "text": [
      "{2: 4, 4: 3, 8: 2, 6: 1}\n"
     ]
    }
   ],
   "source": [
    "input= [1,2,3,2,4,2,4,7,8,4,5,8,6,9,2] \n",
    "\n",
    "even_counts = {}\n",
    "\n",
    "for num in input :\n",
    "    if not num % 2:\n",
    "        if num not in even_counts:\n",
    "            even_counts[num] = 1\n",
    "        else:\n",
    "            even_counts[num] += 1\n",
    "\n",
    "print(even_counts)"
   ]
  },
  {
   "cell_type": "code",
   "execution_count": 15,
   "metadata": {},
   "outputs": [
    {
     "name": "stdout",
     "output_type": "stream",
     "text": [
      "Original input is [1, 2, 3, 4, 5, 6, 7, 8]\n",
      "Input after swapping [1, 2, 3, 4, 6, 5, 7, 8]\n",
      "list is  [1, 2, 3, 4, True]\n",
      "list after swapping is  [True, 2, 3, 4, 1]\n"
     ]
    }
   ],
   "source": [
    "Input = [1,2,3,4,5,6,7,8] \n",
    "def swap_element(arg1, arg2) :\n",
    "    global Input\n",
    "    Input[arg1], Input[arg2] = Input[arg2], Input[arg1]\n",
    "\n",
    "print(\"Original input is\", Input)\n",
    "swap_element(4, 5)\n",
    "print(\"Input after swapping\", Input)\n",
    "\n",
    "\n",
    "def swap_positions(arr, pos1, pos2):\n",
    "    temp = arr[pos1]\n",
    "    arr[pos1] = arr[pos2]\n",
    "    arr[pos2] = temp\n",
    "\n",
    "arr = [1, 2, 3, 4, True]\n",
    "print(\"list is \", arr)\n",
    "\n",
    "swap_positions(arr, 0, 4)\n",
    "print(\"list after swapping is \", arr)"
   ]
  },
  {
   "cell_type": "code",
   "execution_count": 18,
   "metadata": {},
   "outputs": [
    {
     "name": "stdout",
     "output_type": "stream",
     "text": [
      "YES\n"
     ]
    }
   ],
   "source": [
    "# Write the output of the program: \n",
    "# match = \"version\"\n",
    "# input='Upgraded_image_version_8.0.4.3'\n",
    "# if match in input: \n",
    "#     print(\"YES\") \n",
    "# else: \n",
    "#     print(\"NO\")\n",
    "\n",
    "# The and is \"YES\""
   ]
  },
  {
   "cell_type": "code",
   "execution_count": null,
   "metadata": {},
   "outputs": [],
   "source": [
    "# 11. Rewrite the program to get proper output \n",
    "# Match = 'version' \n",
    "# input=8 \n",
    "# print(Match+input) \n",
    "# 12. How is memory management done in python? \n",
    "# 13. Give a real time example for multithreading. Is it a good idea to use multi-thread to \n",
    "# speed your Python code? \n",
    "# 14. When do you use generators in python? Give an example \n",
    "# 15. Give the scenarios, when you will get ‘ValueError’ \n",
    "# 16. Write a program to multiply two given number without using “*” operation and any in built \n",
    "# function"
   ]
  },
  {
   "cell_type": "markdown",
   "metadata": {},
   "source": [
    "Rewrite the code"
   ]
  },
  {
   "cell_type": "code",
   "execution_count": 24,
   "metadata": {},
   "outputs": [
    {
     "name": "stdout",
     "output_type": "stream",
     "text": [
      "version8\n"
     ]
    }
   ],
   "source": [
    "match = \"version\"\n",
    "input = 8\n",
    "# print(match + input)  # we will gat type error, because we are tying to concatinate 'str' with 'int'ArithmeticError\n",
    "\n",
    "# To fix this we can typecast 'input' to 'str' using 'str()' \n",
    "print(match + str(input))"
   ]
  },
  {
   "cell_type": "markdown",
   "metadata": {},
   "source": [
    "Memory management in python done by combination of ref count and garbage collector.\n",
    "\n",
    "while ref count  manages the refeces to the object \n",
    "\n",
    "garbage collecter helps to free the memory."
   ]
  },
  {
   "cell_type": "markdown",
   "metadata": {},
   "source": [
    "Example of multithreading"
   ]
  },
  {
   "cell_type": "code",
   "execution_count": 37,
   "metadata": {},
   "outputs": [
    {
     "name": "stdout",
     "output_type": "stream",
     "text": [
      "started adding\n",
      "0 50\n",
      "0 Prabh\n",
      "program finished\n"
     ]
    },
    {
     "name": "stdout",
     "output_type": "stream",
     "text": [
      "1 Prabh\n",
      "1 100\n",
      "2 Prabh\n",
      "3 Prabh\n",
      "2 150\n",
      "4 Prabh\n",
      "5 Prabh\n",
      "3 200\n",
      "6 Prabh\n",
      "7 Prabh\n",
      "4 250\n",
      "8 Prabh\n",
      "9 Prabh\n",
      "5 300\n",
      "6 350\n",
      "7 400\n",
      "8 450\n",
      "9 500\n",
      "500\n"
     ]
    }
   ],
   "source": [
    "import threading\n",
    "import time\n",
    "\n",
    "def adder(val, no_of_times):\n",
    "    print(\"started adding\")\n",
    "    result = 0\n",
    "\n",
    "    for iteration in range(no_of_times):\n",
    "        result += val\n",
    "        print(iteration, result)\n",
    "        time.sleep(0.2)\n",
    "\n",
    "    print(result)\n",
    "\n",
    "def display(name, no_of_times):\n",
    "    for iteration in range(no_of_times):\n",
    "        print(iteration, name)\n",
    "        time.sleep(0.1)\n",
    "\n",
    "\n",
    "thread1 = threading.Thread(target=adder, args=(50, 10))\n",
    "thread1.start()\n",
    "\n",
    "thread2 = threading.Thread(target=display, args=(\"Prabh\", 10))\n",
    "thread2.start()\n",
    "\n",
    "print(\"program finished\")"
   ]
  },
  {
   "cell_type": "markdown",
   "metadata": {},
   "source": [
    "Generators"
   ]
  },
  {
   "cell_type": "markdown",
   "metadata": {},
   "source": [
    "generators can be used for iteration purpose.\n",
    "\n",
    "The basic difference between generators and iterators is memory usage.\n",
    "\n",
    "iterator stores the data, while generators doesn't store the data"
   ]
  },
  {
   "cell_type": "code",
   "execution_count": 42,
   "metadata": {},
   "outputs": [
    {
     "name": "stdout",
     "output_type": "stream",
     "text": [
      "<generator object <genexpr> at 0x000001EB8EA24200>\n",
      "[1, 2, 3, 4, 5, 6, 7, 8, 9, 10]\n"
     ]
    }
   ],
   "source": [
    "# Inbuit generators\n",
    "\n",
    "nums = (i for i in range(1, 11))\n",
    "\n",
    "print(nums)\n",
    "print(list(nums))"
   ]
  },
  {
   "cell_type": "code",
   "execution_count": 46,
   "metadata": {},
   "outputs": [
    {
     "name": "stdout",
     "output_type": "stream",
     "text": [
      "<generator object get_evens at 0x000001EB8EA26650>\n",
      "[10, 12, 14, 16, 18, 20, 22, 24, 26, 28, 30, 32, 34, 36, 38, 40, 42, 44, 46, 48, 50, 52, 54, 56, 58, 60, 62, 64, 66, 68, 70, 72, 74, 76, 78, 80, 82, 84, 86, 88, 90, 92, 94, 96, 98, 100]\n"
     ]
    }
   ],
   "source": [
    "# User defined generators using yeild keyword\n",
    "# generator of even nums between 10 to 100\n",
    "\n",
    "def get_evens(start, end):\n",
    "    for num in range(start, end+1):\n",
    "        if not num % 2:\n",
    "            yield num\n",
    "\n",
    "# here we are not returning the function\n",
    "# yield will return the value and remeber the position of iteration.\n",
    "\n",
    "evens = get_evens(10, 100)\n",
    "print(evens)\n",
    "print(list(evens))"
   ]
  },
  {
   "cell_type": "code",
   "execution_count": null,
   "metadata": {},
   "outputs": [],
   "source": []
  },
  {
   "cell_type": "markdown",
   "metadata": {},
   "source": [
    "Value errors"
   ]
  },
  {
   "cell_type": "code",
   "execution_count": 16,
   "metadata": {},
   "outputs": [
    {
     "name": "stdout",
     "output_type": "stream",
     "text": [
      "doubled value is: 2\n"
     ]
    }
   ],
   "source": [
    "# import math\n",
    "\n",
    "# print(math.sqrt(-50))\n",
    "\n",
    "# try:\n",
    "#     int(\"abc\")\n",
    "# except ValueError:\n",
    "#     print(\"we are getting value error\")\n",
    "\n",
    "def doubler(num):\n",
    "    if not num.isnumeric():\n",
    "        raise ValueError(\"Please enter a numeric value\")\n",
    "    return int(num) * 2\n",
    "\n",
    "num = input()\n",
    "try:\n",
    "    print(\"doubled value is:\", doubler(num))\n",
    "except ValueError:\n",
    "    num = input()\n",
    "    print(\"doubled value is:\", doubler(num))"
   ]
  },
  {
   "cell_type": "markdown",
   "metadata": {},
   "source": [
    "multiply nums"
   ]
  },
  {
   "cell_type": "code",
   "execution_count": 49,
   "metadata": {},
   "outputs": [
    {
     "name": "stdout",
     "output_type": "stream",
     "text": [
      "15\n"
     ]
    }
   ],
   "source": [
    "def multiply_nums(num1, num2):\n",
    "    result = 0\n",
    "\n",
    "    for count in range(num1):\n",
    "        result += num2\n",
    "\n",
    "    return result\n",
    "\n",
    "result = multiply_nums(5, 3)\n",
    "print(result)"
   ]
  },
  {
   "cell_type": "code",
   "execution_count": null,
   "metadata": {},
   "outputs": [],
   "source": [
    "# 17. Write a program to find the count of alphabet alone in the given alphanumeric string for \n",
    "# Ex1: input=’abb24ccc8ddbbca1’ output=’a1b224c3d2b2c1a11’ \n",
    "# Ex2: input = ‘abc23’ output=’a1b1c123\n",
    "# 18. Write a python program where for every two hours it prints the pattern without using \n",
    "# sleep function \n",
    "# ********** \n",
    "# ******** \n",
    "# ****** \n",
    "# ***\n",
    "# * \n",
    "# 19. Write a program using decorators to print the traffic signal messages \n",
    "# Expected output - \n",
    "# RED : STOP \n",
    "# YELLOW : SLOW DOWN \n",
    "# GREEN : GO \n",
    "# The decorator should be working in this order \n",
    "# 20. Write a python program for sort the given below list based last character of each word \n",
    "# names_list = ['Prabhu', Rahul', 'Arunesh, 'Sonali', 'Rakshit'] \n",
    "# 21. How do you open a file of large size, say around 10GB? So that program should not \n",
    "# crash \n",
    "# 22. Write a function where month and year are taken as arguments which returns the output \n",
    "# with all the dates of saturdays occuring the month \n",
    "# 23. Find the highest sum of the string by removing the duplicates for each iteration \n",
    "# input=’1211’\n",
    "\n"
   ]
  },
  {
   "cell_type": "code",
   "execution_count": 10,
   "metadata": {},
   "outputs": [
    {
     "name": "stdout",
     "output_type": "stream",
     "text": [
      "a1b1c123\n",
      "a29a2\n",
      "a2b224c38d2b2c1a11\n",
      "a1b224c38d2b2c1a11\n",
      "1\n",
      "\n",
      "a1\n",
      "a2\n"
     ]
    }
   ],
   "source": [
    "# 17. Write a program to find the count of alphabet alone in the given alphanumeric string for \n",
    "# Ex1: input=’abb24ccc8ddbbca1’ output=’a1b224c3d2b2c1a11’ \n",
    "# Ex2: input = ‘abc23’ output=’a1b1c123\n",
    "\n",
    "def char_counter(s):\n",
    "    result = temp = \"\"\n",
    "    char_count = 0\n",
    "\n",
    "    for index, char in enumerate(s):\n",
    "        if char.isalpha():\n",
    "            if not char_count:\n",
    "                temp = char\n",
    "                result += char\n",
    "                char_count = 1\n",
    "            elif char_count and temp == char:\n",
    "                char_count +=1\n",
    "            else:\n",
    "                result += str(char_count)\n",
    "                temp = char\n",
    "                result += char\n",
    "                char_count = 1\n",
    "                \n",
    "            if index == len(s) - 1:\n",
    "                result += str(char_count)\n",
    "        else:\n",
    "            if char_count:\n",
    "                result += str(char_count)\n",
    "                char_count = 0\n",
    "\n",
    "            result += char \n",
    "\n",
    "    return result\n",
    "\n",
    "\n",
    "print(char_counter(\"abc23\")) #a1b1c123\n",
    "print(char_counter(\"aa9aa\")) #a29a1\n",
    "print(char_counter(\"aabb24ccc8ddbbca1\")) #a2b224c38d2b2c1a11\n",
    "print(char_counter(\"abb24ccc8ddbbca1\")) # ’a1b224c3d2b2c1a11’\n",
    "print(char_counter(\"1\"))\n",
    "print(char_counter(\"\"))\n",
    "print(char_counter(\"a\"))\n",
    "print(char_counter(\"aa\"))"
   ]
  },
  {
   "cell_type": "code",
   "execution_count": 106,
   "metadata": {},
   "outputs": [
    {
     "name": "stdout",
     "output_type": "stream",
     "text": [
      "*********\n",
      "*******\n",
      "*****\n",
      "***\n",
      "*\n"
     ]
    }
   ],
   "source": [
    "# 18. Write a python program where for every two hours it prints the pattern without using \n",
    "# sleep function \n",
    "# *********\n",
    "# *******\n",
    "# *****\n",
    "# ***\n",
    "# * \n",
    "\n",
    "from datetime import datetime\n",
    "\n",
    "def print_stars(cols):\n",
    "    for cul in range(1, cols*2):\n",
    "            print(\"*\", end=\"\")\n",
    "    print()\n",
    "\n",
    "\n",
    "rows = row_no = 5\n",
    "preveous = datetime.now()\n",
    "\n",
    "while row_no:\n",
    "    current = datetime.now()\n",
    "    if not rows - row_no or current.min - preveous.min == 120:\n",
    "        print_stars(row_no)\n",
    "\n",
    "        preveous = current\n",
    "        row_no -= 1"
   ]
  },
  {
   "cell_type": "code",
   "execution_count": 135,
   "metadata": {},
   "outputs": [
    {
     "name": "stdout",
     "output_type": "stream",
     "text": [
      "RED : STOP\n"
     ]
    }
   ],
   "source": [
    "# 19. Write a program using decorators to print the traffic signal messages \n",
    "# Expected output - \n",
    "# RED : STOP \n",
    "# YELLOW : SLOW DOWN \n",
    "# GREEN : GO \n",
    "# The decorator should be working in this order \n",
    "\n",
    "def traffic(func):\n",
    "    def inner(light):\n",
    "        x = func(light).upper()\n",
    "        if x == \"RED\":\n",
    "            return f\"{x} : STOP\"\n",
    "        elif x == \"YELLOW\":\n",
    "            return f\"{x} : SLOW DOWN\"\n",
    "        else:\n",
    "            return f\"{x} : GO\"\n",
    "\n",
    "    return inner\n",
    "\n",
    "@traffic\n",
    "def signal(light):\n",
    "    return light\n",
    "\n",
    "print(signal(\"Red\"))"
   ]
  },
  {
   "cell_type": "code",
   "execution_count": 121,
   "metadata": {},
   "outputs": [
    {
     "data": {
      "text/plain": [
       "['Arunesh', 'Sonali', 'Rahul', 'Rakshit', 'Prabhu']"
      ]
     },
     "execution_count": 121,
     "metadata": {},
     "output_type": "execute_result"
    }
   ],
   "source": [
    "# 20. Write a python program for sort the given below list based last character of each word \n",
    "# names_list = ['Prabhu', Rahul', 'Arunesh, 'Sonali', 'Rakshit'] \n",
    "\n",
    "def selection(A):\n",
    "    n = len(A)\n",
    "\n",
    "    for i in range(n):\n",
    "        pos = i\n",
    "        last_char_of_pos = len(A[pos]) - 1\n",
    "\n",
    "        for j in range(i+1, n):\n",
    "            last_char_of_j = len(A[j]) - 1\n",
    "\n",
    "            if A[j][last_char_of_j] < A[pos][last_char_of_pos]:\n",
    "                pos = j\n",
    "                last_char_of_pos = len(A[pos]) - 1\n",
    "            \n",
    "\n",
    "        A[i], A[pos] = A[pos], A[i]\n",
    "\n",
    "names_list = ['Prabhu', 'Rahul', 'Arunesh', 'Sonali', 'Rakshit'] \n",
    "selection(names_list)\n",
    "names_list"
   ]
  },
  {
   "cell_type": "code",
   "execution_count": null,
   "metadata": {},
   "outputs": [],
   "source": [
    "# we can open a large file using open() function in read mode.\n",
    "# But if we read the data at once it will crash the code.\n",
    "# To prevent that we can read small portion or size of data at once.\n",
    "\n",
    "# Here is an example for same with a text file.\n",
    "\n",
    "with open(\"testfile.py\", \"r\") as fp:\n",
    "    while True:\n",
    "        part = fp.read(1024 * 1024)\n",
    "\n",
    "        if not part:\n",
    "            break"
   ]
  },
  {
   "cell_type": "code",
   "execution_count": 153,
   "metadata": {},
   "outputs": [
    {
     "data": {
      "text/plain": [
       "[4, 11, 18, 25]"
      ]
     },
     "execution_count": 153,
     "metadata": {},
     "output_type": "execute_result"
    }
   ],
   "source": [
    "def get_saturdays_in_month(month, year):\n",
    "    if month in [4, 6, 9, 11]:\n",
    "        num_days = 30\n",
    "    elif month == 2:\n",
    "        if (year % 4 == 0 and year % 100 != 0) or (year % 400 == 0):\n",
    "            num_days = 29\n",
    "        else:\n",
    "            num_days = 28\n",
    "    else:\n",
    "        num_days = 31\n",
    "    \n",
    "    saturdays = []\n",
    "    for day in range(1, num_days+1):\n",
    "        weekday = (year + (year // 4) - (year // 100) + (year // 400) + ((13 * month + 8) // 5) + day) % 7\n",
    "        \n",
    "        if weekday == 6:  \n",
    "            saturdays.append(day)\n",
    "    \n",
    "    return saturdays\n",
    "\n",
    "get_saturdays_in_month(3, 2023)"
   ]
  },
  {
   "cell_type": "code",
   "execution_count": null,
   "metadata": {},
   "outputs": [],
   "source": [
    "# 24. Write a python script to copy files from a directory D1 based on timestamp(current_date) \n",
    "# to another directory D2 and delete the source directory D1. Whenever the script is called \n",
    "# this program must run. \n",
    "\n",
    "# 25. Write a program to send a mail notification to customers regarding the arrival of goods \n",
    "# on a daily basis. The admin email has a separate domain email address owned by your \n",
    "# company.Do not forget to add cc candidates in customer’s mail. \n",
    "# 26. You are given a string S. Your task is to find the indices of the start and end of string k in \n",
    "# S\n",
    "# The first line contains the string S.The second line contains the string k. \n",
    "# Print the tuple in this format: (start _index, end _index). If no match is found, print (-1, \n",
    "# -1). \n",
    "# Sample Input \n",
    "# Sample Output\n",
    "# aaadaa\n",
    "# aa\n",
    "# (0, 1)\n",
    "# (1, 2)\n",
    "# (4, 5)\n",
    "# 27. Write a Python class to check the validity of a string of parentheses, '(', ')', '{', '}', '[' and ']. \n",
    "# These brackets must be closed in the correct order, for example \"()\" and \"()[]{}\" are valid \n",
    "# but \"[)\", \"({[)]\" and \"{{{\" are invalid\n",
    "# 28. Write a Python program to remove the parenthesis area in a string using Regular \n",
    "# Expression \n",
    "# Sample data : [\"example (.com)\", \"MSys\", \"github (.com)\", \"keka (.com)\"] \n",
    "# Expected Output: \n",
    "# Example \n",
    "# MSys \n",
    "# github \n",
    "# keka \n",
    "# 29. Write a regular expression to find the html tags that are more than 4 letters. \n",
    "# Note: Html tags can be found inside <> characters and closing html tags can be found in \n",
    "# the same format after / character. </> \n",
    "# i.e.: <param> </param> \n",
    "# 30. How does the context manager work in python? Explain the internal methods. Write a \n",
    "# custom sample context manager.\n",
    "\n"
   ]
  },
  {
   "cell_type": "code",
   "execution_count": null,
   "metadata": {},
   "outputs": [],
   "source": []
  },
  {
   "cell_type": "code",
   "execution_count": 160,
   "metadata": {},
   "outputs": [
    {
     "name": "stdout",
     "output_type": "stream",
     "text": [
      "(0, 1)\n",
      "(1, 2)\n",
      "(4, 5)\n"
     ]
    }
   ],
   "source": [
    "# 26. You are given a string S. Your task is to find the indices of the start and end of string k in \n",
    "# S\n",
    "# The first line contains the string S.The second line contains the string k. \n",
    "# Print the tuple in this format: (start _index, end _index). If no match is found, print (-1, \n",
    "# -1). \n",
    "# Sample Input \n",
    "# Sample Output\n",
    "# aaadaa\n",
    "# aa\n",
    "# (0, 1)\n",
    "# (1, 2)\n",
    "# (4, 5)\n",
    "\n",
    "def get_substr_pos(main_str, sub_str):\n",
    "    count = 0\n",
    "    len_of_mstr = len(main_str)\n",
    "    len_of_substr = len(sub_str)\n",
    "\n",
    "    for index in range(len_of_mstr):\n",
    "        if  main_str[index:index + len_of_substr] == sub_str:\n",
    "            print((index, index + len_of_substr - 1))\n",
    "            count += 1\n",
    "\n",
    "    if not count:\n",
    "        print((-1, -1))\n",
    "\n",
    "S = input()\n",
    "k = input()\n",
    "\n",
    "get_substr_pos(S, k)"
   ]
  },
  {
   "cell_type": "code",
   "execution_count": 167,
   "metadata": {},
   "outputs": [
    {
     "name": "stdout",
     "output_type": "stream",
     "text": [
      "True\n",
      "False\n",
      "False\n",
      "True\n",
      "True\n"
     ]
    }
   ],
   "source": [
    "# 27. Write a Python class to check the validity of a string of parentheses, '(', ')', '{', '}', '[' and ']. \n",
    "# These brackets must be closed in the correct order, for example \"()\" and \"()[]{}\" are valid \n",
    "# but \"[)\", \"({[)]\" and \"{{{\" are invalid.\n",
    "def check_valid_parentheses(brackets):\n",
    "    valid = {')': '(', '}': '{', ']': '['}\n",
    "    res = [] \n",
    "    left_brackets = ['(', '{', '[']\n",
    "    right_brackets = [')', '}', ']']\n",
    "\n",
    "    for bracket in brackets:\n",
    "        if bracket in right_brackets:\n",
    "            if len(res) == 0:\n",
    "                return (False)\n",
    "                break\n",
    "            elif res[-1] == valid[bracket]:\n",
    "                res.pop(-1)\n",
    "            elif res[-1] != valid[bracket]:\n",
    "                return (False)\n",
    "                break\n",
    "        elif bracket in left_brackets:\n",
    "            res += bracket\n",
    "\n",
    "    return len(res) == 0\n",
    "\n",
    "print(check_valid_parentheses(\"[]{}()\"))\n",
    "\n",
    "print(check_valid_parentheses(\"[\"))\n",
    "print(check_valid_parentheses(\"[)\"))\n",
    "print(check_valid_parentheses(\"\"))\n",
    "print(check_valid_parentheses(\"[({})]\"))\n"
   ]
  },
  {
   "cell_type": "code",
   "execution_count": 168,
   "metadata": {},
   "outputs": [
    {
     "name": "stdout",
     "output_type": "stream",
     "text": [
      "example\n",
      "MSys\n",
      "github\n",
      "keka\n"
     ]
    }
   ],
   "source": [
    "# 28. Write a Python program to remove the parenthesis area in a string using Regular \n",
    "# Expression \n",
    "# Sample data : [\"example (.com)\", \"MSys\", \"github (.com)\", \"keka (.com)\"] \n",
    "# Expected Output: \n",
    "# Example \n",
    "# MSys \n",
    "# github \n",
    "# keka \n",
    "\n",
    "\n",
    "import re\n",
    "\n",
    "data = [\"example (.com)\", \"MSys\", \"github (.com)\", \"keka (.com)\"]\n",
    "\n",
    "for s in data:\n",
    "    s = re.sub(r'\\([^)]*\\)', '', s)\n",
    "    print(s.strip())\n"
   ]
  },
  {
   "cell_type": "code",
   "execution_count": 10,
   "metadata": {},
   "outputs": [
    {
     "ename": "error",
     "evalue": "multiple repeat at position 40",
     "output_type": "error",
     "traceback": [
      "\u001b[0;31m---------------------------------------------------------------------------\u001b[0m",
      "\u001b[0;31merror\u001b[0m                                     Traceback (most recent call last)",
      "Cell \u001b[0;32mIn[10], line 25\u001b[0m\n\u001b[1;32m      6\u001b[0m \u001b[38;5;28;01mimport\u001b[39;00m \u001b[38;5;21;01mre\u001b[39;00m\n\u001b[1;32m      7\u001b[0m html \u001b[38;5;241m=\u001b[39m \u001b[38;5;124m'''\u001b[39m\n\u001b[1;32m      8\u001b[0m \u001b[38;5;124m<head>\u001b[39m\n\u001b[1;32m      9\u001b[0m \u001b[38;5;124m    <title>Python Re</title>\u001b[39m\n\u001b[0;32m   (...)\u001b[0m\n\u001b[1;32m     22\u001b[0m \u001b[38;5;124m</html>\u001b[39m\n\u001b[1;32m     23\u001b[0m \u001b[38;5;124m'''\u001b[39m\n\u001b[0;32m---> 25\u001b[0m pattern \u001b[38;5;241m=\u001b[39m \u001b[43mre\u001b[49m\u001b[38;5;241;43m.\u001b[39;49m\u001b[43mcompile\u001b[49m\u001b[43m(\u001b[49m\u001b[38;5;124;43m\"\u001b[39;49m\u001b[38;5;124;43m\\\u001b[39;49m\u001b[38;5;124;43m<[^/][^>].\u001b[39;49m\u001b[38;5;132;43;01m{3}\u001b[39;49;00m\u001b[38;5;124;43m[a-z]*\u001b[39;49m\u001b[38;5;124;43m\\\u001b[39;49m\u001b[38;5;124;43m>|\u001b[39;49m\u001b[38;5;124;43m\\\u001b[39;49m\u001b[38;5;124;43m<\u001b[39;49m\u001b[38;5;124;43m\\\u001b[39;49m\u001b[38;5;124;43m/[^>][a-z].\u001b[39;49m\u001b[38;5;132;43;01m{3}\u001b[39;49;00m\u001b[38;5;124;43m*\u001b[39;49m\u001b[38;5;124;43m\\\u001b[39;49m\u001b[38;5;124;43m>\u001b[39;49m\u001b[38;5;124;43m\"\u001b[39;49m\u001b[43m)\u001b[49m\n\u001b[1;32m     26\u001b[0m result \u001b[38;5;241m=\u001b[39m pattern\u001b[38;5;241m.\u001b[39mfindall(html)\n\u001b[1;32m     28\u001b[0m \u001b[38;5;28;01mfor\u001b[39;00m tag \u001b[38;5;129;01min\u001b[39;00m result:\n",
      "File \u001b[0;32m/usr/lib/python3.8/re.py:252\u001b[0m, in \u001b[0;36mcompile\u001b[0;34m(pattern, flags)\u001b[0m\n\u001b[1;32m    250\u001b[0m \u001b[39mdef\u001b[39;00m \u001b[39mcompile\u001b[39m(pattern, flags\u001b[39m=\u001b[39m\u001b[39m0\u001b[39m):\n\u001b[1;32m    251\u001b[0m     \u001b[39m\"\u001b[39m\u001b[39mCompile a regular expression pattern, returning a Pattern object.\u001b[39m\u001b[39m\"\u001b[39m\n\u001b[0;32m--> 252\u001b[0m     \u001b[39mreturn\u001b[39;00m _compile(pattern, flags)\n",
      "File \u001b[0;32m/usr/lib/python3.8/re.py:304\u001b[0m, in \u001b[0;36m_compile\u001b[0;34m(pattern, flags)\u001b[0m\n\u001b[1;32m    302\u001b[0m \u001b[39mif\u001b[39;00m \u001b[39mnot\u001b[39;00m sre_compile\u001b[39m.\u001b[39misstring(pattern):\n\u001b[1;32m    303\u001b[0m     \u001b[39mraise\u001b[39;00m \u001b[39mTypeError\u001b[39;00m(\u001b[39m\"\u001b[39m\u001b[39mfirst argument must be string or compiled pattern\u001b[39m\u001b[39m\"\u001b[39m)\n\u001b[0;32m--> 304\u001b[0m p \u001b[39m=\u001b[39m sre_compile\u001b[39m.\u001b[39;49mcompile(pattern, flags)\n\u001b[1;32m    305\u001b[0m \u001b[39mif\u001b[39;00m \u001b[39mnot\u001b[39;00m (flags \u001b[39m&\u001b[39m DEBUG):\n\u001b[1;32m    306\u001b[0m     \u001b[39mif\u001b[39;00m \u001b[39mlen\u001b[39m(_cache) \u001b[39m>\u001b[39m\u001b[39m=\u001b[39m _MAXCACHE:\n\u001b[1;32m    307\u001b[0m         \u001b[39m# Drop the oldest item\u001b[39;00m\n",
      "File \u001b[0;32m/usr/lib/python3.8/sre_compile.py:764\u001b[0m, in \u001b[0;36mcompile\u001b[0;34m(p, flags)\u001b[0m\n\u001b[1;32m    762\u001b[0m \u001b[39mif\u001b[39;00m isstring(p):\n\u001b[1;32m    763\u001b[0m     pattern \u001b[39m=\u001b[39m p\n\u001b[0;32m--> 764\u001b[0m     p \u001b[39m=\u001b[39m sre_parse\u001b[39m.\u001b[39;49mparse(p, flags)\n\u001b[1;32m    765\u001b[0m \u001b[39melse\u001b[39;00m:\n\u001b[1;32m    766\u001b[0m     pattern \u001b[39m=\u001b[39m \u001b[39mNone\u001b[39;00m\n",
      "File \u001b[0;32m/usr/lib/python3.8/sre_parse.py:948\u001b[0m, in \u001b[0;36mparse\u001b[0;34m(str, flags, state)\u001b[0m\n\u001b[1;32m    945\u001b[0m state\u001b[39m.\u001b[39mstr \u001b[39m=\u001b[39m \u001b[39mstr\u001b[39m\n\u001b[1;32m    947\u001b[0m \u001b[39mtry\u001b[39;00m:\n\u001b[0;32m--> 948\u001b[0m     p \u001b[39m=\u001b[39m _parse_sub(source, state, flags \u001b[39m&\u001b[39;49m SRE_FLAG_VERBOSE, \u001b[39m0\u001b[39;49m)\n\u001b[1;32m    949\u001b[0m \u001b[39mexcept\u001b[39;00m Verbose:\n\u001b[1;32m    950\u001b[0m     \u001b[39m# the VERBOSE flag was switched on inside the pattern.  to be\u001b[39;00m\n\u001b[1;32m    951\u001b[0m     \u001b[39m# on the safe side, we'll parse the whole thing again...\u001b[39;00m\n\u001b[1;32m    952\u001b[0m     state \u001b[39m=\u001b[39m State()\n",
      "File \u001b[0;32m/usr/lib/python3.8/sre_parse.py:443\u001b[0m, in \u001b[0;36m_parse_sub\u001b[0;34m(source, state, verbose, nested)\u001b[0m\n\u001b[1;32m    441\u001b[0m start \u001b[39m=\u001b[39m source\u001b[39m.\u001b[39mtell()\n\u001b[1;32m    442\u001b[0m \u001b[39mwhile\u001b[39;00m \u001b[39mTrue\u001b[39;00m:\n\u001b[0;32m--> 443\u001b[0m     itemsappend(_parse(source, state, verbose, nested \u001b[39m+\u001b[39;49m \u001b[39m1\u001b[39;49m,\n\u001b[1;32m    444\u001b[0m                        \u001b[39mnot\u001b[39;49;00m nested \u001b[39mand\u001b[39;49;00m \u001b[39mnot\u001b[39;49;00m items))\n\u001b[1;32m    445\u001b[0m     \u001b[39mif\u001b[39;00m \u001b[39mnot\u001b[39;00m sourcematch(\u001b[39m\"\u001b[39m\u001b[39m|\u001b[39m\u001b[39m\"\u001b[39m):\n\u001b[1;32m    446\u001b[0m         \u001b[39mbreak\u001b[39;00m\n",
      "File \u001b[0;32m/usr/lib/python3.8/sre_parse.py:671\u001b[0m, in \u001b[0;36m_parse\u001b[0;34m(source, state, verbose, nested, first)\u001b[0m\n\u001b[1;32m    668\u001b[0m     \u001b[39mraise\u001b[39;00m source\u001b[39m.\u001b[39merror(\u001b[39m\"\u001b[39m\u001b[39mnothing to repeat\u001b[39m\u001b[39m\"\u001b[39m,\n\u001b[1;32m    669\u001b[0m                        source\u001b[39m.\u001b[39mtell() \u001b[39m-\u001b[39m here \u001b[39m+\u001b[39m \u001b[39mlen\u001b[39m(this))\n\u001b[1;32m    670\u001b[0m \u001b[39mif\u001b[39;00m item[\u001b[39m0\u001b[39m][\u001b[39m0\u001b[39m] \u001b[39min\u001b[39;00m _REPEATCODES:\n\u001b[0;32m--> 671\u001b[0m     \u001b[39mraise\u001b[39;00m source\u001b[39m.\u001b[39merror(\u001b[39m\"\u001b[39m\u001b[39mmultiple repeat\u001b[39m\u001b[39m\"\u001b[39m,\n\u001b[1;32m    672\u001b[0m                        source\u001b[39m.\u001b[39mtell() \u001b[39m-\u001b[39m here \u001b[39m+\u001b[39m \u001b[39mlen\u001b[39m(this))\n\u001b[1;32m    673\u001b[0m \u001b[39mif\u001b[39;00m item[\u001b[39m0\u001b[39m][\u001b[39m0\u001b[39m] \u001b[39mis\u001b[39;00m SUBPATTERN:\n\u001b[1;32m    674\u001b[0m     group, add_flags, del_flags, p \u001b[39m=\u001b[39m item[\u001b[39m0\u001b[39m][\u001b[39m1\u001b[39m]\n",
      "\u001b[0;31merror\u001b[0m: multiple repeat at position 40"
     ]
    }
   ],
   "source": [
    "# 29. Write a regular expression to find the html tags that are more than 4 letters. \n",
    "# Note: Html tags can be found inside <> characters and closing html tags can be found in \n",
    "# the same format after / character. </> \n",
    "# i.e.: <param> </param> \n",
    "\n",
    "import re\n",
    "html = '''\n",
    "<head>\n",
    "    <title>Python Re</title>\n",
    "</head>\n",
    "<body>\n",
    "    <header>\n",
    "        <h1>Find all tags with more than 5 character</h1>\n",
    "    </header>\n",
    "    <article>\n",
    "        <p>Lorem ipsum dolor sit amet consectetur adipisicing elit. Praesentium, cumque!</p>\n",
    "    </article>\n",
    "    <footer>\n",
    "        <h3>End of body.</h3>\n",
    "    </footer>\n",
    "</body>\n",
    "</html>\n",
    "'''\n",
    "\n",
    "pattern = re.compile(\"\\<[^/][^>][a-z]*\\>|\\<\\/[^>]\\>\")\n",
    "result = pattern.findall(html)\n",
    "\n",
    "for tag in result:\n",
    "    print(tag)"
   ]
  },
  {
   "cell_type": "code",
   "execution_count": null,
   "metadata": {},
   "outputs": [],
   "source": []
  }
 ],
 "metadata": {
  "kernelspec": {
   "display_name": "Python 3.8.10 64-bit",
   "language": "python",
   "name": "python3"
  },
  "language_info": {
   "codemirror_mode": {
    "name": "ipython",
    "version": 3
   },
   "file_extension": ".py",
   "mimetype": "text/x-python",
   "name": "python",
   "nbconvert_exporter": "python",
   "pygments_lexer": "ipython3",
   "version": "3.8.10"
  },
  "orig_nbformat": 4,
  "vscode": {
   "interpreter": {
    "hash": "916dbcbb3f70747c44a77c7bcd40155683ae19c65e1c03b4aa3499c5328201f1"
   }
  }
 },
 "nbformat": 4,
 "nbformat_minor": 2
}
