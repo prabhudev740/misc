{
 "cells": [
  {
   "cell_type": "code",
   "execution_count": null,
   "metadata": {},
   "outputs": [],
   "source": [
    "# 24. Write a class that represents a circle.The circle should have a radius, a diameter, \n",
    "# and an area. It should also have a nice string representation. \n",
    "# 25. Write a program to convert integers to Roman numbers. \n",
    "# 26. Write a function so that it accepts an iterable and returns True if the given iterable \n",
    "# is an iterator. \n",
    "# 27. Write a class that represents a bank account, do bank operations. \n",
    "# 28. Standardize mobile numbers when given N mobile numbers. Sort them in \n",
    "# ascending order. Print them in the standard format. \n",
    "# 29. Write a function called interleave which accepts two iterables of any type and \n",
    "# returns a new iterable with each of the given items \"interleaved\" (item 0 from \n",
    "# iterable 1, then item 0 from iterable 2, then item 1 from iterable 1, and so on). \n",
    "# 30. Convert each list element to a key-value pair. \n",
    "# ex: \n",
    "# Input : test_list = [2323, 82, 129388, 95] \n",
    "# Output : {23: 23, 8: 2, 129: 388, 9: 5}\n"
   ]
  },
  {
   "cell_type": "code",
   "execution_count": 9,
   "metadata": {},
   "outputs": [
    {
     "name": "stdout",
     "output_type": "stream",
     "text": [
      "False\n",
      "False\n",
      "False\n",
      "False\n",
      "True\n",
      "True\n"
     ]
    }
   ],
   "source": [
    "# 9. Create a function is_leap_year that accepts a year and returns True if (and only \n",
    "# if) the given year is a leap year. \n",
    "\n",
    "def is_leap_year(year):\n",
    "    if not year % 100 and year % 400: \n",
    "        return False\n",
    "    if year % 4:\n",
    "        return False\n",
    "    return True\n",
    "\n",
    "print(is_leap_year(2100))\n",
    "print(is_leap_year(1998))\n",
    "print(is_leap_year(2102))\n",
    "print(is_leap_year(1900))\n",
    "print(is_leap_year(512))\n",
    "print(is_leap_year(596))"
   ]
  },
  {
   "cell_type": "code",
   "execution_count": 10,
   "metadata": {},
   "outputs": [
    {
     "data": {
      "text/plain": [
       "[1, 2, 3, 4, 5, 6]"
      ]
     },
     "execution_count": 10,
     "metadata": {},
     "output_type": "execute_result"
    }
   ],
   "source": [
    "# 10. Write a function combine_lists should take two lists and return a new list \n",
    "# containing all elements from both lists. \n",
    "def combine_lists(list1, list2):\n",
    "    res = []\n",
    "    \n",
    "    for item in list1:\n",
    "        res += [item]\n",
    "        \n",
    "    for item in list2:\n",
    "        res += [item]\n",
    "        \n",
    "    return res\n",
    "\n",
    "combine_lists([1, 2, 3], [4, 5, 6])"
   ]
  },
  {
   "cell_type": "code",
   "execution_count": 39,
   "metadata": {},
   "outputs": [
    {
     "name": "stdout",
     "output_type": "stream",
     "text": [
      "1\n",
      "And this is line 3 \n",
      "This is line 2 \n",
      "This is a file \n"
     ]
    }
   ],
   "source": [
    "# 11. Write a function, last_lines, which returns lines in a given ASCII text file in \n",
    "# reverse order. \n",
    "# For example, given the following file, my_file.txt: \n",
    "# This is a file \n",
    "# This is line 2 \n",
    "# And this is line 3 \n",
    "# The last_lines function should work like this: \n",
    "# >>> for line in last_lines('my_file.txt'): \n",
    "# ... print(line, end='') \n",
    "# ... \n",
    "# And this is line 3 \n",
    "# This is line 2 \n",
    "# This is a file \n",
    "\n",
    "# createing file\n",
    "txt = \"\"\"This is a file \n",
    "This is line 2 \n",
    "And this is line 3 \"\"\"\n",
    "\n",
    "with open('my_file.txt', 'w') as fp:\n",
    "    fp.write(txt)\n",
    "    \n",
    "# reverse function\n",
    "    \n",
    "def reverse(lines):\n",
    "    start = 0\n",
    "    end = len(lines) - 1\n",
    "    \n",
    "    while start < end:\n",
    "        lines[start], lines[end] = lines[end], lines[start]\n",
    "        start += 1\n",
    "        end -= 1\n",
    "    \n",
    "# last_lines function\n",
    "def last_lines(file_name):\n",
    "    with open(file_name) as fp:\n",
    "        lines = fp.read().split('\\n')\n",
    "        \n",
    "    reverse(lines)\n",
    "    return lines\n",
    "\n",
    "for line in last_lines('my_file.txt'):\n",
    "    print(line)\n",
    "\n"
   ]
  },
  {
   "cell_type": "code",
   "execution_count": 1,
   "metadata": {},
   "outputs": [
    {
     "data": {
      "text/plain": [
       "[1, 2, 4, 8, 9, 10, 11, 12, 13]"
      ]
     },
     "execution_count": 1,
     "metadata": {},
     "output_type": "execute_result"
    }
   ],
   "source": [
    "# 12. Write a function called parse_ranges, which accepts a string containing ranges of \n",
    "# numbers and returns an iterable of those numbers. \n",
    "# Ex: >>> parse_ranges('1-2,4-4,8-13') \n",
    "# [1, 2, 4, 8, 9, 10, 11, 12, 13] \n",
    "\n",
    "def get_range(ith_range):\n",
    "    res = ith_range.split('-')\n",
    "    return int(res[0]), int(res[1])\n",
    "\n",
    "def add_nums(nums, r_start, r_end):\n",
    "    for num in range(r_start, r_end+1):\n",
    "        nums.append(num)\n",
    "\n",
    "def parse_ranges(ranges):\n",
    "    res = []\n",
    "    \n",
    "    ranges_list = ranges.split(',')\n",
    "    \n",
    "    for ith_range in ranges_list:\n",
    "        start_range, end_range = get_range(ith_range)\n",
    "        add_nums(res, start_range, end_range)\n",
    "        \n",
    "    return res\n",
    "\n",
    "parse_ranges('1-2,4-4,8-13')\n"
   ]
  },
  {
   "cell_type": "code",
   "execution_count": 54,
   "metadata": {},
   "outputs": [
    {
     "data": {
      "text/plain": [
       "[[3.0, 4.0, 5.0]]"
      ]
     },
     "execution_count": 54,
     "metadata": {},
     "output_type": "execute_result"
    }
   ],
   "source": [
    "# 13. Write a function that accepts a string containing lines of numbers and returns a \n",
    "# list of lists of numbers. \n",
    "# Ex. matrix_from_string(\"3 4 5\") \n",
    "# [[3.0, 4.0, 5.0]] \n",
    "\n",
    "def get_num_list(nums):\n",
    "    res = [[]]\n",
    "    \n",
    "    for num in nums.split():\n",
    "        res[0].append(float(num))\n",
    "        \n",
    "    return res\n",
    "\n",
    "get_num_list(\"3 4 5\")\n"
   ]
  },
  {
   "cell_type": "code",
   "execution_count": 39,
   "metadata": {},
   "outputs": [
    {
     "ename": "FileNotFoundError",
     "evalue": "[Errno 2] No such file or directory: 'file1.json'",
     "output_type": "error",
     "traceback": [
      "\u001b[1;31m---------------------------------------------------------------------------\u001b[0m",
      "\u001b[1;31mFileNotFoundError\u001b[0m                         Traceback (most recent call last)",
      "Input \u001b[1;32mIn [39]\u001b[0m, in \u001b[0;36m<cell line: 12>\u001b[1;34m()\u001b[0m\n\u001b[0;32m      9\u001b[0m         data \u001b[38;5;241m=\u001b[39m json\u001b[38;5;241m.\u001b[39mload(f)\n\u001b[0;32m     10\u001b[0m         \u001b[38;5;28mprint\u001b[39m(data)\n\u001b[1;32m---> 12\u001b[0m \u001b[38;5;28mprint\u001b[39m(\u001b[43mdisplay_json\u001b[49m\u001b[43m(\u001b[49m\u001b[38;5;124;43m'\u001b[39;49m\u001b[38;5;124;43mfile1.json\u001b[39;49m\u001b[38;5;124;43m'\u001b[39;49m\u001b[43m)\u001b[49m)\n",
      "Input \u001b[1;32mIn [39]\u001b[0m, in \u001b[0;36mdisplay_json\u001b[1;34m(file1)\u001b[0m\n\u001b[0;32m      7\u001b[0m \u001b[38;5;28;01mdef\u001b[39;00m \u001b[38;5;21mdisplay_json\u001b[39m(file1):\n\u001b[1;32m----> 8\u001b[0m     \u001b[38;5;28;01mwith\u001b[39;00m \u001b[38;5;28;43mopen\u001b[39;49m\u001b[43m(\u001b[49m\u001b[43mfile1\u001b[49m\u001b[43m)\u001b[49m \u001b[38;5;28;01mas\u001b[39;00m f:\n\u001b[0;32m      9\u001b[0m         data \u001b[38;5;241m=\u001b[39m json\u001b[38;5;241m.\u001b[39mload(f)\n\u001b[0;32m     10\u001b[0m         \u001b[38;5;28mprint\u001b[39m(data)\n",
      "\u001b[1;31mFileNotFoundError\u001b[0m: [Errno 2] No such file or directory: 'file1.json'"
     ]
    }
   ],
   "source": [
    "# 14. Write a command-line program which helps a traveler keep track of the \n",
    "# restaurants they've visited in different cities and what they thought of each. The \n",
    "# program will accept two CSV files of restaurants, a \"primary list\" CSV and a \n",
    "# \"sublist\" one, and update the primary one with new restaurants from the trip one. \n",
    "import json\n",
    "\n",
    "def display_json(file1):\n",
    "    with open(file1) as f:\n",
    "        data = json.load(f)\n",
    "        print(data)\n",
    "\n",
    "print(display_json('file1.json'))"
   ]
  },
  {
   "cell_type": "code",
   "execution_count": 2,
   "metadata": {},
   "outputs": [
    {
     "name": "stdout",
     "output_type": "stream",
     "text": [
      "5.0\n",
      "0.0\n"
     ]
    }
   ],
   "source": [
    "# 15. Write a function get_hypotenuse that returns the hypotenuse of a right triangle \n",
    "# given the other two sides. \n",
    "# >>> get_hypotenuse(0, 0) \n",
    "# 0.0>>> get_hypotenuse(3, 4) \n",
    "# 5.0\n",
    "\n",
    "from math import sqrt\n",
    "\n",
    "def get_hypotenuse(height, base):    \n",
    "    res = sqrt(height ** 2 + base ** 2)\n",
    "    \n",
    "    return res\n",
    "\n",
    "print(get_hypotenuse(3, 4))\n",
    "print(get_hypotenuse(0, 0))"
   ]
  },
  {
   "cell_type": "code",
   "execution_count": 23,
   "metadata": {},
   "outputs": [
    {
     "data": {
      "text/plain": [
       "([1, 2], [3, 4])"
      ]
     },
     "execution_count": 23,
     "metadata": {},
     "output_type": "execute_result"
    }
   ],
   "source": [
    "# 16. Write a function split_in_half that splits a list in half and returns both halves. \n",
    "# >>> split_in_half([1, 2, 3, 4]) \n",
    "# ([1, 2], [3, 4]) \n",
    "\n",
    "def split_in_half(given_list):\n",
    "    half = len(given_list) // 2\n",
    "    \n",
    "    return given_list[:half], given_list[half:]\n",
    "\n",
    "split_in_half([1, 2, 3, 4])\n"
   ]
  },
  {
   "cell_type": "code",
   "execution_count": 22,
   "metadata": {},
   "outputs": [
    {
     "data": {
      "text/plain": [
       "(5,)"
      ]
     },
     "execution_count": 22,
     "metadata": {},
     "output_type": "execute_result"
    }
   ],
   "source": [
    "# 17. Write a function that takes a sequence (like a list, string, or tuple) and a number n \n",
    "# and returns the last n elements from the given sequence, as a list. For example: \n",
    "# >>> tail([1, 2, 3, 4, 5], 3) \n",
    "# [3, 4, 5] \n",
    "\n",
    "def trail(seq, n):\n",
    "    return seq[len(seq)- n:]\n",
    "\n",
    "trail([1, 2, 3, 4, 5], 3)\n",
    "trail(\"prabhu\", 2)\n",
    "trail((1, 2, 3, 4, 5), 1)\n"
   ]
  },
  {
   "cell_type": "code",
   "execution_count": 16,
   "metadata": {},
   "outputs": [
    {
     "ename": "NumericError",
     "evalue": "Name cant't be alphanumeric",
     "output_type": "error",
     "traceback": [
      "\u001b[1;31m---------------------------------------------------------------------------\u001b[0m",
      "\u001b[1;31mNumericError\u001b[0m                              Traceback (most recent call last)",
      "Input \u001b[1;32mIn [16]\u001b[0m, in \u001b[0;36m<cell line: 13>\u001b[1;34m()\u001b[0m\n\u001b[0;32m     10\u001b[0m     \u001b[38;5;28;01mreturn\u001b[39;00m \u001b[38;5;28;01mTrue\u001b[39;00m\n\u001b[0;32m     12\u001b[0m is_valid_uname(\u001b[38;5;124m'\u001b[39m\u001b[38;5;124mPrabhu7\u001b[39m\u001b[38;5;124m'\u001b[39m)\n\u001b[1;32m---> 13\u001b[0m \u001b[43mis_valid_uname\u001b[49m\u001b[43m(\u001b[49m\u001b[38;5;124;43m'\u001b[39;49m\u001b[38;5;124;43m7\u001b[39;49m\u001b[38;5;124;43m'\u001b[39;49m\u001b[43m)\u001b[49m\n",
      "Input \u001b[1;32mIn [16]\u001b[0m, in \u001b[0;36mis_valid_uname\u001b[1;34m(name)\u001b[0m\n\u001b[0;32m      6\u001b[0m \u001b[38;5;28;01mdef\u001b[39;00m \u001b[38;5;21mis_valid_uname\u001b[39m(name):\n\u001b[0;32m      7\u001b[0m     \u001b[38;5;28;01mif\u001b[39;00m name\u001b[38;5;241m.\u001b[39misnumeric():\n\u001b[1;32m----> 8\u001b[0m         \u001b[38;5;28;01mraise\u001b[39;00m NumericError(\u001b[38;5;124m\"\u001b[39m\u001b[38;5;124mName cant\u001b[39m\u001b[38;5;124m'\u001b[39m\u001b[38;5;124mt be alphanumeric\u001b[39m\u001b[38;5;124m\"\u001b[39m)\n\u001b[0;32m     10\u001b[0m     \u001b[38;5;28;01mreturn\u001b[39;00m \u001b[38;5;28;01mTrue\u001b[39;00m\n",
      "\u001b[1;31mNumericError\u001b[0m: Name cant't be alphanumeric"
     ]
    }
   ],
   "source": [
    "# 18. Create your own exception. \n",
    "\n",
    "class NumericError(Exception):\n",
    "    pass\n",
    "\n",
    "def is_valid_uname(name):\n",
    "    if name.isnumeric():\n",
    "        raise NumericError(\"Name cant't be alphanumeric\")\n",
    "        \n",
    "    return True\n",
    "\n",
    "is_valid_uname('Prabhu7')\n",
    "is_valid_uname('7')\n"
   ]
  },
  {
   "cell_type": "code",
   "execution_count": 3,
   "metadata": {},
   "outputs": [
    {
     "name": "stdout",
     "output_type": "stream",
     "text": [
      "01/27/1756\n"
     ]
    }
   ],
   "source": [
    "# 19. Write a function that takes two strings representing dates and returns the string \n",
    "# that represents the earliest point in time ? Ex. get_earliest(\"01/27/1832\", \n",
    "# \"01/27/1756\") return '01/27/1756'. \n",
    "\n",
    "def get_earliest(date1, date2):\n",
    "    date_ls1 = tuple(map(int, date1.split('/')))\n",
    "    date_ls2 = tuple(map(int, date2.split('/')))\n",
    "    \n",
    "    if date_ls1[2] != date_ls2[2]:\n",
    "        return date2 if date_ls1[2] > date_ls2[2] else date1\n",
    "    elif date_ls1[1] != date_ls2[1]:\n",
    "        return date2 if date_ls1[1] > date_ls2[1] else date1\n",
    "    else:\n",
    "        return date2 if date_ls1[0] > date_ls2[0] else date1\n",
    "        \n",
    "    \n",
    "print(get_earliest(\"01/27/1832\", \"01/27/1756\"))\n"
   ]
  },
  {
   "cell_type": "code",
   "execution_count": 38,
   "metadata": {},
   "outputs": [
    {
     "name": "stdout",
     "output_type": "stream",
     "text": [
      "Enter the Year: 2003\n",
      "Enter the month: 05\n",
      "2003-05-22, Meet up Date is 22\n"
     ]
    }
   ],
   "source": [
    "# 20. Create a function that determines which day of the month the San Diego Python \n",
    "# meetup should be. It should accept year and month arguments and should return \n",
    "# a datetime.date object representing the day of the month for the meetup. \n",
    "# >>> meetup_date(2012, 3) \n",
    "# datetime.date(2012, 3, 22) \n",
    "import datetime\n",
    "\n",
    "def meetup_date(year, month):      \n",
    "    first_day = datetime.date(year, month, 1)       # We first calculate the date for the 1st day of the month\n",
    "    \n",
    "    first_day_weekday = first_day.weekday()         # here finding the day of the week for the 1st day of the month\n",
    "    \n",
    "    meetup_day = 26 - (first_day_weekday + 1) if first_day_weekday <= 3 else 32 - (first_day_weekday + 1)  # We calculate the number of days to the 4th Thursday of the month\n",
    "   \n",
    "    return f'{datetime.date(year, month, meetup_day)}, Meet up Date is {meetup_day}'     # here creating the datetime.date object and returning it \n",
    "\n",
    "\n",
    "year = int(input(\"Enter the Year: \"))\n",
    "month = int(input(\"Enter the month: \"))\n",
    "print(meetup_date(year,month))"
   ]
  },
  {
   "cell_type": "code",
   "execution_count": 1,
   "metadata": {},
   "outputs": [
    {
     "name": "stdout",
     "output_type": "stream",
     "text": [
      "[0.5, 1.0, 1.5, 2.0]\n",
      "4\n"
     ]
    }
   ],
   "source": [
    "# 21. Write a callable called float_range that acts sort of like the built-in range callable \n",
    "# but it should allow for floating point numbers to be specified as start, stop, and \n",
    "# step values. \n",
    "# >>> r = float_range(0.5, 2.5, 0.5) \n",
    "# >>> r \n",
    "# float_range(0.5, 2.5, 0.5) \n",
    "# >>> list(r) \n",
    "# [0.5, 1.0, 1.5, 2.0] \n",
    "# >>> len(r) \n",
    "# 4\n",
    "# >>> for n in r: \n",
    "# ... print(n) \n",
    "# ... \n",
    "# 0.5 \n",
    "# 1.0 \n",
    "# 1.5 \n",
    "# 2.0\n",
    "\n",
    "def float_range(start, end, step):\n",
    "    res = []\n",
    "    while start < end:\n",
    "        res.append(start)\n",
    "        start += step\n",
    "        \n",
    "    return res\n",
    "\n",
    "r = float_range(0.5, 2.5, 0.5)\n",
    "print(r)\n",
    "print(len(r))\n",
    "    "
   ]
  },
  {
   "cell_type": "code",
   "execution_count": 55,
   "metadata": {},
   "outputs": [
    {
     "name": "stdout",
     "output_type": "stream",
     "text": [
      "False\n",
      "True\n"
     ]
    }
   ],
   "source": [
    "#22. Write a function is_iterator so that it accepts an iterable and returns True if the \n",
    "# given iterable is an iterator. \n",
    "# is_iterator(iter([])) \n",
    "# True \n",
    "# >>> is_iterator([1, 2]) \n",
    "# False \n",
    "\n",
    "x = [1, 2, 3, 4]\n",
    "\n",
    "z = iter(x)\n",
    "\n",
    "def is_iterator(iterable):\n",
    "    try:\n",
    "        next(iterable)\n",
    "        return True\n",
    "    except TypeError:\n",
    "        return False\n",
    "    \n",
    "print(is_iterator(x))\n",
    "print(is_iterator(z))\n"
   ]
  },
  {
   "cell_type": "code",
   "execution_count": 24,
   "metadata": {},
   "outputs": [
    {
     "name": "stdout",
     "output_type": "stream",
     "text": [
      "Hi!\n",
      "<class 'NameError'> name 'name' is not defined <traceback object at 0x000002C54E7FC180>\n",
      "Hi!\n",
      "<class 'NameError'> name 'name' is not defined <traceback object at 0x000002C54E7FC180>\n"
     ]
    },
    {
     "ename": "NameError",
     "evalue": "name 'name' is not defined",
     "output_type": "error",
     "traceback": [
      "\u001b[1;31m---------------------------------------------------------------------------\u001b[0m",
      "\u001b[1;31mNameError\u001b[0m                                 Traceback (most recent call last)",
      "Input \u001b[1;32mIn [24]\u001b[0m, in \u001b[0;36m<cell line: 42>\u001b[1;34m()\u001b[0m\n\u001b[0;32m     42\u001b[0m \u001b[38;5;28;01mwith\u001b[39;00m suppress(\u001b[38;5;167;01mTypeError\u001b[39;00m):\n\u001b[0;32m     43\u001b[0m     \u001b[38;5;28mprint\u001b[39m(\u001b[38;5;124m\"\u001b[39m\u001b[38;5;124mHi!\u001b[39m\u001b[38;5;124m\"\u001b[39m) \n\u001b[1;32m---> 44\u001b[0m     \u001b[38;5;28mprint\u001b[39m(\u001b[38;5;124m\"\u001b[39m\u001b[38;5;124mIt\u001b[39m\u001b[38;5;124m'\u001b[39m\u001b[38;5;124ms nice to meet you,\u001b[39m\u001b[38;5;124m\"\u001b[39m, \u001b[43mname\u001b[49m) \n\u001b[0;32m     45\u001b[0m     \u001b[38;5;28mprint\u001b[39m(\u001b[38;5;124m\"\u001b[39m\u001b[38;5;124mGoodbye!\u001b[39m\u001b[38;5;124m\"\u001b[39m)\n",
      "\u001b[1;31mNameError\u001b[0m: name 'name' is not defined"
     ]
    }
   ],
   "source": [
    "# 23. Create a context manager. Context managers use a with block to bookend a \n",
    "# block of code with automatic setup and tear down steps.Your context manager, \n",
    "# suppress, should suppress exceptions of a given type: \n",
    "# >>> with suppress(NameError): \n",
    "# ... print(\"Hi!\") \n",
    "# ... print(\"It's nice to meet you,\", name) \n",
    "# ... print(\"Goodbye!\") \n",
    "# ... \n",
    "# Hi! \n",
    "# But exceptions of other types shouldn't be suppressed (we're suppressing a \n",
    "# TypeError and a NameError is raised): \n",
    "# >>> with suppress(TypeError): \n",
    "# ... print(\"Hi!\") \n",
    "# ... print(\"It's nice to meet you,\", name) \n",
    "# ... print(\"Goodbye!\") \n",
    "# ... \n",
    "# Hi! \n",
    "# Traceback (most recent call last): \n",
    "# File \"<stdin>\", line 3, in <module> \n",
    "# NameError: name 'name' is not defined\n",
    "\n",
    "# from contextlib import suppress\n",
    "class suppress:\n",
    "    def __init__(self, error):\n",
    "        self.error = error\n",
    "        \n",
    "    def __enter__(self):\n",
    "        pass\n",
    "        \n",
    "\n",
    "    def __exit__(self, exc_type, exc_val, tb):\n",
    "        print(exc_type, exc_val, tb)\n",
    "        if exc_type == self.error:\n",
    "            return True\n",
    "        \n",
    "\n",
    "with suppress(NameError):\n",
    "    print(\"Hi!\") \n",
    "    print(\"It's nice to meet you,\", name) \n",
    "    print(\"Goodbye!\") \n",
    "    \n",
    "with suppress(TypeError):\n",
    "    print(\"Hi!\") \n",
    "    print(\"It's nice to meet you,\", name) \n",
    "    print(\"Goodbye!\") "
   ]
  },
  {
   "cell_type": "code",
   "execution_count": 36,
   "metadata": {},
   "outputs": [
    {
     "name": "stdout",
     "output_type": "stream",
     "text": [
      "radius of circle = 5\n",
      "        diameter = 10\n",
      "        area = 157.0\n"
     ]
    }
   ],
   "source": [
    "# 24. Write a class that represents a circle.The circle should have a radius, a diameter, \n",
    "# and an area. It should also have a nice string representation. \n",
    "\n",
    "class Circle:\n",
    "    def __init__(self, radius):\n",
    "        self.radius = radius\n",
    "        self.diameter = self.get_diameter()\n",
    "        self.area = self.get_area()\n",
    "        \n",
    "    def get_diameter(self):\n",
    "        return 2 * self.radius\n",
    "\n",
    "    def get_area(self):\n",
    "        return 2 * 3.14 * self.radius**2\n",
    "    \n",
    "    def __str__(self):\n",
    "        return f\"\"\"radius of circle = {self.radius}\n",
    "        diameter = {self.diameter}\n",
    "        area = {self.area}\"\"\"\n",
    "    \n",
    "\n",
    "c = Circle(5)\n",
    "print(c)\n"
   ]
  },
  {
   "cell_type": "code",
   "execution_count": 1,
   "metadata": {},
   "outputs": [
    {
     "name": "stdout",
     "output_type": "stream",
     "text": [
      "MMCCCILV\n"
     ]
    }
   ],
   "source": [
    "# 25. Write a program to convert integers to Roman numbers. \n",
    "def get_romon(num, ints):\n",
    "    if not num:\n",
    "        return ''\n",
    "    \n",
    "    for i in reversed(ints):\n",
    "        if i <= num:\n",
    "            num = num - i\n",
    "            return romons[i] + get_romon(num, ints)\n",
    "\n",
    "romons = {1: 'I', 2: 'II', 3: 'III', 4: 'IV', 5: 'V', 9: 'IX', 10: 'X', \n",
    "          40: 'IL', 50: 'L', 90: 'IC', 100: 'C', 400: 'ID', 500: 'D', 900: 'IM', 1000: 'M'}\n",
    "num = 1\n",
    "# num = 11\n",
    "# num = 9\n",
    "# num = 51\n",
    "num = 1002\n",
    "num = 2345\n",
    "\n",
    "print(get_romon(num, romons.keys()))\n"
   ]
  },
  {
   "cell_type": "code",
   "execution_count": 4,
   "metadata": {},
   "outputs": [
    {
     "name": "stdout",
     "output_type": "stream",
     "text": [
      "False\n",
      "True\n"
     ]
    }
   ],
   "source": [
    "# 26. Write a function so that it accepts an iterable and returns True if the given iterable \n",
    "# is an iterator. \n",
    "\n",
    "x = [1, 2, 3, 4]\n",
    "z = iter(x)\n",
    "\n",
    "def is_iterator(iterable):\n",
    "    try:\n",
    "        next(iterable)\n",
    "        return True\n",
    "    except TypeError:\n",
    "        return False\n",
    "    \n",
    "print(is_iterator(x))\n",
    "print(is_iterator(z))\n"
   ]
  },
  {
   "cell_type": "code",
   "execution_count": 5,
   "metadata": {},
   "outputs": [
    {
     "name": "stdout",
     "output_type": "stream",
     "text": [
      " ======= Customer Details =======       \n",
      "        account_no: 100001\n",
      "        name: Prabhu Panda\n",
      "        age: 23\n",
      "        city: BBSR\n",
      "        deposite: 5000\n",
      "        \n",
      "Account bal is 5000\n",
      "\n",
      "Amount Deposited Successfully\n",
      "\n",
      " ======= Customer Details =======       \n",
      "        account_no: 100001\n",
      "        name: Prabhu Panda\n",
      "        age: 23\n",
      "        city: BBSR\n",
      "        deposite: 6000\n",
      "        \n",
      "Account bal is 6000\n",
      "\n",
      "Amount Withdrawn Successfully\n",
      "\n",
      " ======= Customer Details =======       \n",
      "        account_no: 100001\n",
      "        name: Prabhu Panda\n",
      "        age: 23\n",
      "        city: BBSR\n",
      "        deposite: 8000\n",
      "        \n",
      "Account bal is 8000\n",
      "\n"
     ]
    }
   ],
   "source": [
    "# 27. Write a class that represents a bank account, do bank operations. \n",
    "\n",
    "\n",
    "class HDFC:\n",
    "    __acc_no_rec = 100000\n",
    "    branch_name = 'BTM Layout'\n",
    "    bank_name = 'HDFC Bank'\n",
    "    ifsc = 'HDFC0001'\n",
    "    \n",
    "    def __init__(self, fname, lname, age, city, deposite):\n",
    "        self.__account_no = self.__get_account_no()\n",
    "        self.fname = fname\n",
    "        self.lname = lname\n",
    "        self.age = age\n",
    "        self.city = city\n",
    "        self.amount = deposite\n",
    "        \n",
    "    def __get_account_no(cls):\n",
    "        cls.__acc_no_rec += 1\n",
    "        return cls.__acc_no_rec\n",
    "    \n",
    "    def __str__(self):\n",
    "        return f\"\"\" ======= Customer Details =======       \n",
    "        account_no: {self.__account_no}\n",
    "        name: {self.fname} {self.lname}\n",
    "        age: {self.age}\n",
    "        city: {self.city}\n",
    "        deposite: {self.amount}\n",
    "        \"\"\"\n",
    "    \n",
    "    def display_amount(self):\n",
    "        print(f\"Account bal is {self.amount}\")\n",
    "        print()\n",
    "        \n",
    "    def deposite(self, bal):\n",
    "        self.amount += bal\n",
    "        print(\"Amount Deposited Successfully\")\n",
    "        print()\n",
    "        \n",
    "    def withdraw(self, bal):\n",
    "        self.amount += bal\n",
    "        print(\"Amount Withdrawn Successfully\")\n",
    "        print()\n",
    "    \n",
    "        \n",
    "\n",
    "# a = HDFC('Prabhu', 'Panda', 23, \"BBSR\", 5000)\n",
    "# print(a)\n",
    "# b = HDFC('Prabhu', 'Panda', 23, \"BBSR\", 5000)\n",
    "# print(b)\n",
    "cust = HDFC('Prabhu', 'Panda', 23, \"BBSR\", 5000)\n",
    "print(cust)\n",
    "cust.display_amount()\n",
    "cust.deposite(1000)\n",
    "print(cust)\n",
    "cust.display_amount()\n",
    "cust.withdraw(2000)\n",
    "print(cust)\n",
    "cust.display_amount()"
   ]
  },
  {
   "cell_type": "code",
   "execution_count": 22,
   "metadata": {},
   "outputs": [
    {
     "name": "stdout",
     "output_type": "stream",
     "text": [
      "[769865, 767865, 766865, 764865, 762865, 761865]\n"
     ]
    }
   ],
   "source": [
    "# 28. Standardize mobile numbers when given N mobile numbers. Sort them in \n",
    "# ascending order. Print them in the standard format. \n",
    "\n",
    "def standardize(mob_nums):\n",
    "    n = len(mob_nums)\n",
    "\n",
    "    for passes in range(n - 1, 0, -1):\n",
    "        for i in range(passes):\n",
    "            if mob_nums[i] > mob_nums[i + 1]:\n",
    "                mob_nums[i], mob_nums[i + 1] = mob_nums[i + 1], mob_nums[i]\n",
    "    \n",
    "mob_nums = [766865, 769865, 767865, 764865, 762865, 761865]\n",
    "standardize(mob_nums)\n",
    "print(mob_nums)"
   ]
  },
  {
   "cell_type": "code",
   "execution_count": 37,
   "metadata": {},
   "outputs": [
    {
     "name": "stdout",
     "output_type": "stream",
     "text": [
      "['1', 'a', '2', 'b', '3', 'c'] de\n",
      "['1', 'a', '2', 'b', '3', 'c', 'd', 'e']\n",
      "1a2b3cde\n",
      "[1, 4, 2, 5, 3, 6]\n",
      "(10, 40, 20, 50, 30, 60)\n"
     ]
    }
   ],
   "source": [
    "# 29. Write a function called interleave which accepts two iterables of any type and \n",
    "# returns a new iterable with each of the given items \"interleaved\" (item 0 from \n",
    "# iterable 1, then item 0 from iterable 2, then item 1 from iterable 1, and so on). \n",
    "\n",
    "def interleave(iterable1, iterable2):\n",
    "    res_type = type(iterable1)\n",
    "    res = []\n",
    "    \n",
    "    iter1 = iter2 = 0\n",
    "    \n",
    "    while iter1 < len(iterable1) and iter2 < len(iterable2):\n",
    "        res += [iterable1[iter1]]\n",
    "        iter1 += 1\n",
    "        res +=[(iterable2[iter2])]\n",
    "        iter2 += 1\n",
    "        \n",
    "    if iter1 < len(iterable1):\n",
    "        res += iterable1[iter1:]\n",
    "    if iter2 < len(iterable2):\n",
    "        print(res, iterable2[iter2:])\n",
    "        res += iterable2[iter2:]\n",
    "        print(res)\n",
    "        \n",
    "    if isinstance(iterable1, str):\n",
    "        return ''.join(res)\n",
    "    \n",
    "    if isinstance(iterable1, tuple):\n",
    "        return tuple(res)\n",
    "    \n",
    "    return res\n",
    "\n",
    "print(interleave('123', 'abcde'))\n",
    "print(interleave([1,2,3], [4, 5, 6]))\n",
    "print(interleave((10,20,30), (40, 50, 60)))"
   ]
  },
  {
   "cell_type": "code",
   "execution_count": 17,
   "metadata": {},
   "outputs": [
    {
     "data": {
      "text/plain": [
       "{23: 23, 8: 2, 129: 388, 9: 5}"
      ]
     },
     "execution_count": 17,
     "metadata": {},
     "output_type": "execute_result"
    }
   ],
   "source": [
    "# 30. Convert each list element to a key-value pair. \n",
    "# ex: \n",
    "# Input : test_list = [2323, 82, 129388, 95] \n",
    "# Output : {23: 23, 8: 2, 129: 388, 9: 5}\n",
    "\n",
    "\n",
    "def get_half(num, x=1):\n",
    "    while num // 10 ** x:\n",
    "        x += 1 \n",
    "    return x // 2\n",
    "\n",
    "    \n",
    "def get_dict(nums):\n",
    "    res = {}\n",
    "    \n",
    "    for num in nums:\n",
    "        half = get_half(num)\n",
    "        res[num // 10 ** half] = num % 10 ** half\n",
    "    return res\n",
    "    \n",
    "\n",
    "test_list = [2323, 82, 129388, 95] \n",
    "get_dict(test_list)"
   ]
  },
  {
   "cell_type": "code",
   "execution_count": null,
   "metadata": {},
   "outputs": [],
   "source": []
  }
 ],
 "metadata": {
  "kernelspec": {
   "display_name": "Python 3 (ipykernel)",
   "language": "python",
   "name": "python3"
  },
  "language_info": {
   "codemirror_mode": {
    "name": "ipython",
    "version": 3
   },
   "file_extension": ".py",
   "mimetype": "text/x-python",
   "name": "python",
   "nbconvert_exporter": "python",
   "pygments_lexer": "ipython3",
   "version": "3.8.10"
  },
  "vscode": {
   "interpreter": {
    "hash": "916dbcbb3f70747c44a77c7bcd40155683ae19c65e1c03b4aa3499c5328201f1"
   }
  }
 },
 "nbformat": 4,
 "nbformat_minor": 2
}
