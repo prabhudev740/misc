{
 "cells": [
  {
   "cell_type": "code",
   "execution_count": 9,
   "metadata": {},
   "outputs": [
    {
     "name": "stdout",
     "output_type": "stream",
     "text": [
      "<re.Match object; span=(0, 1), match='a'>\n"
     ]
    }
   ],
   "source": [
    "import re\n",
    "\n",
    "p = re.compile(\"^[A-Z]+$|^[a-z]+$\")\n",
    "\n",
    "print(p.search('a'))"
   ]
  },
  {
   "cell_type": "code",
   "execution_count": 13,
   "metadata": {},
   "outputs": [
    {
     "ename": "ConnectionRefusedError",
     "evalue": "[WinError 10061] No connection could be made because the target machine actively refused it",
     "output_type": "error",
     "traceback": [
      "\u001b[1;31m---------------------------------------------------------------------------\u001b[0m",
      "\u001b[1;31mConnectionRefusedError\u001b[0m                    Traceback (most recent call last)",
      "\u001b[1;32md:\\misc\\testing\\test_py\\practice..ipynb Cell 2\u001b[0m in \u001b[0;36m<cell line: 30>\u001b[1;34m()\u001b[0m\n\u001b[0;32m     <a href='vscode-notebook-cell:/d%3A/misc/testing/test_py/practice..ipynb#W3sZmlsZQ%3D%3D?line=26'>27</a>\u001b[0m         server\u001b[39m.\u001b[39mlogin(username\u001b[39m=\u001b[39muname, password\u001b[39m=\u001b[39mpasswd)\n\u001b[0;32m     <a href='vscode-notebook-cell:/d%3A/misc/testing/test_py/practice..ipynb#W3sZmlsZQ%3D%3D?line=27'>28</a>\u001b[0m         server\u001b[39m.\u001b[39msendmail(from_email, to_emials, msg_str)\n\u001b[1;32m---> <a href='vscode-notebook-cell:/d%3A/misc/testing/test_py/practice..ipynb#W3sZmlsZQ%3D%3D?line=29'>30</a>\u001b[0m send_mail(to_emials\u001b[39m=\u001b[39;49m[\u001b[39m'\u001b[39;49m\u001b[39mprabhuprasadpanda01@gmail.com\u001b[39;49m\u001b[39m'\u001b[39;49m, \u001b[39m'\u001b[39;49m\u001b[39mprabhuprasadpanda740@gmail.com\u001b[39;49m\u001b[39m'\u001b[39;49m])\n",
      "\u001b[1;32md:\\misc\\testing\\test_py\\practice..ipynb Cell 2\u001b[0m in \u001b[0;36msend_mail\u001b[1;34m(text, subject, from_email, to_emials)\u001b[0m\n\u001b[0;32m     <a href='vscode-notebook-cell:/d%3A/misc/testing/test_py/practice..ipynb#W3sZmlsZQ%3D%3D?line=19'>20</a>\u001b[0m \u001b[39m# server = smtplib.SMTP()\u001b[39;00m\n\u001b[0;32m     <a href='vscode-notebook-cell:/d%3A/misc/testing/test_py/practice..ipynb#W3sZmlsZQ%3D%3D?line=20'>21</a>\u001b[0m \u001b[39m# server.quit()\u001b[39;00m\n\u001b[0;32m     <a href='vscode-notebook-cell:/d%3A/misc/testing/test_py/practice..ipynb#W3sZmlsZQ%3D%3D?line=21'>22</a>\u001b[0m msg_str \u001b[39m=\u001b[39m \u001b[39m\"\u001b[39m\u001b[39m\"\u001b[39m\n\u001b[1;32m---> <a href='vscode-notebook-cell:/d%3A/misc/testing/test_py/practice..ipynb#W3sZmlsZQ%3D%3D?line=23'>24</a>\u001b[0m \u001b[39mwith\u001b[39;00m smtplib\u001b[39m.\u001b[39;49mSMTP(host\u001b[39m=\u001b[39;49m\u001b[39m'\u001b[39;49m\u001b[39msmtp.gnail.com\u001b[39;49m\u001b[39m'\u001b[39;49m, port\u001b[39m=\u001b[39;49m\u001b[39m587\u001b[39;49m) \u001b[39mas\u001b[39;00m server:\n\u001b[0;32m     <a href='vscode-notebook-cell:/d%3A/misc/testing/test_py/practice..ipynb#W3sZmlsZQ%3D%3D?line=24'>25</a>\u001b[0m     server\u001b[39m.\u001b[39mehlo()\n\u001b[0;32m     <a href='vscode-notebook-cell:/d%3A/misc/testing/test_py/practice..ipynb#W3sZmlsZQ%3D%3D?line=25'>26</a>\u001b[0m     server\u001b[39m.\u001b[39mstarttls()\n",
      "File \u001b[1;32mc:\\Users\\ppanda\\AppData\\Local\\Programs\\Python\\Python310\\lib\\smtplib.py:255\u001b[0m, in \u001b[0;36mSMTP.__init__\u001b[1;34m(self, host, port, local_hostname, timeout, source_address)\u001b[0m\n\u001b[0;32m    252\u001b[0m \u001b[39mself\u001b[39m\u001b[39m.\u001b[39m_auth_challenge_count \u001b[39m=\u001b[39m \u001b[39m0\u001b[39m\n\u001b[0;32m    254\u001b[0m \u001b[39mif\u001b[39;00m host:\n\u001b[1;32m--> 255\u001b[0m     (code, msg) \u001b[39m=\u001b[39m \u001b[39mself\u001b[39;49m\u001b[39m.\u001b[39;49mconnect(host, port)\n\u001b[0;32m    256\u001b[0m     \u001b[39mif\u001b[39;00m code \u001b[39m!=\u001b[39m \u001b[39m220\u001b[39m:\n\u001b[0;32m    257\u001b[0m         \u001b[39mself\u001b[39m\u001b[39m.\u001b[39mclose()\n",
      "File \u001b[1;32mc:\\Users\\ppanda\\AppData\\Local\\Programs\\Python\\Python310\\lib\\smtplib.py:341\u001b[0m, in \u001b[0;36mSMTP.connect\u001b[1;34m(self, host, port, source_address)\u001b[0m\n\u001b[0;32m    339\u001b[0m     port \u001b[39m=\u001b[39m \u001b[39mself\u001b[39m\u001b[39m.\u001b[39mdefault_port\n\u001b[0;32m    340\u001b[0m sys\u001b[39m.\u001b[39maudit(\u001b[39m\"\u001b[39m\u001b[39msmtplib.connect\u001b[39m\u001b[39m\"\u001b[39m, \u001b[39mself\u001b[39m, host, port)\n\u001b[1;32m--> 341\u001b[0m \u001b[39mself\u001b[39m\u001b[39m.\u001b[39msock \u001b[39m=\u001b[39m \u001b[39mself\u001b[39;49m\u001b[39m.\u001b[39;49m_get_socket(host, port, \u001b[39mself\u001b[39;49m\u001b[39m.\u001b[39;49mtimeout)\n\u001b[0;32m    342\u001b[0m \u001b[39mself\u001b[39m\u001b[39m.\u001b[39mfile \u001b[39m=\u001b[39m \u001b[39mNone\u001b[39;00m\n\u001b[0;32m    343\u001b[0m (code, msg) \u001b[39m=\u001b[39m \u001b[39mself\u001b[39m\u001b[39m.\u001b[39mgetreply()\n",
      "File \u001b[1;32mc:\\Users\\ppanda\\AppData\\Local\\Programs\\Python\\Python310\\lib\\smtplib.py:312\u001b[0m, in \u001b[0;36mSMTP._get_socket\u001b[1;34m(self, host, port, timeout)\u001b[0m\n\u001b[0;32m    310\u001b[0m \u001b[39mif\u001b[39;00m \u001b[39mself\u001b[39m\u001b[39m.\u001b[39mdebuglevel \u001b[39m>\u001b[39m \u001b[39m0\u001b[39m:\n\u001b[0;32m    311\u001b[0m     \u001b[39mself\u001b[39m\u001b[39m.\u001b[39m_print_debug(\u001b[39m'\u001b[39m\u001b[39mconnect: to\u001b[39m\u001b[39m'\u001b[39m, (host, port), \u001b[39mself\u001b[39m\u001b[39m.\u001b[39msource_address)\n\u001b[1;32m--> 312\u001b[0m \u001b[39mreturn\u001b[39;00m socket\u001b[39m.\u001b[39;49mcreate_connection((host, port), timeout,\n\u001b[0;32m    313\u001b[0m                                 \u001b[39mself\u001b[39;49m\u001b[39m.\u001b[39;49msource_address)\n",
      "File \u001b[1;32mc:\\Users\\ppanda\\AppData\\Local\\Programs\\Python\\Python310\\lib\\socket.py:845\u001b[0m, in \u001b[0;36mcreate_connection\u001b[1;34m(address, timeout, source_address)\u001b[0m\n\u001b[0;32m    843\u001b[0m \u001b[39mif\u001b[39;00m err \u001b[39mis\u001b[39;00m \u001b[39mnot\u001b[39;00m \u001b[39mNone\u001b[39;00m:\n\u001b[0;32m    844\u001b[0m     \u001b[39mtry\u001b[39;00m:\n\u001b[1;32m--> 845\u001b[0m         \u001b[39mraise\u001b[39;00m err\n\u001b[0;32m    846\u001b[0m     \u001b[39mfinally\u001b[39;00m:\n\u001b[0;32m    847\u001b[0m         \u001b[39m# Break explicitly a reference cycle\u001b[39;00m\n\u001b[0;32m    848\u001b[0m         err \u001b[39m=\u001b[39m \u001b[39mNone\u001b[39;00m\n",
      "File \u001b[1;32mc:\\Users\\ppanda\\AppData\\Local\\Programs\\Python\\Python310\\lib\\socket.py:833\u001b[0m, in \u001b[0;36mcreate_connection\u001b[1;34m(address, timeout, source_address)\u001b[0m\n\u001b[0;32m    831\u001b[0m \u001b[39mif\u001b[39;00m source_address:\n\u001b[0;32m    832\u001b[0m     sock\u001b[39m.\u001b[39mbind(source_address)\n\u001b[1;32m--> 833\u001b[0m sock\u001b[39m.\u001b[39;49mconnect(sa)\n\u001b[0;32m    834\u001b[0m \u001b[39m# Break explicitly a reference cycle\u001b[39;00m\n\u001b[0;32m    835\u001b[0m err \u001b[39m=\u001b[39m \u001b[39mNone\u001b[39;00m\n",
      "\u001b[1;31mConnectionRefusedError\u001b[0m: [WinError 10061] No connection could be made because the target machine actively refused it"
     ]
    }
   ],
   "source": [
    "import smtplib\n",
    "from email.mime.text import MIMEText \n",
    "from email.mime.multipart import MIMEMultipart \n",
    "\n",
    "\n",
    "uname = 'psdpr740@gmail.com'\n",
    "passwd = 'Google@740gm1'\n",
    "\n",
    "def send_mail(text = 'Email Body', subject='Hello World', from_email='Prabhuprasad Panda <psdpr740@gmail.com>', to_emials=None):\n",
    "    assert isinstance(to_emials, list)\n",
    "    msg = MIMEMultipart('alternative')\n",
    "    msg['From'] = from_email\n",
    "    msg['To'] = \",\".join(to_emials)\n",
    "    msg['Subject'] = subject\n",
    "    txt_part = MIMEText(text, 'plain')\n",
    "    msg.attach(txt_part)\n",
    "\n",
    "    html_part = MIMEText('<h1> This is working </h1>', 'html')\n",
    "    msg.attach(html_part)\n",
    "    # server = smtplib.SMTP()\n",
    "    # server.quit()\n",
    "    msg_str = \"\"\n",
    "\n",
    "    with smtplib.SMTP(host='smtp.gnail.com', port=587) as server:\n",
    "        server.ehlo()\n",
    "        server.starttls()\n",
    "        server.login(username=uname, password=passwd)\n",
    "        server.sendmail(from_email, to_emials, msg_str)\n",
    "\n",
    "send_mail(to_emials=['prabhuprasadpanda01@gmail.com', 'prabhuprasadpanda740@gmail.com'])"
   ]
  },
  {
   "cell_type": "code",
   "execution_count": 1,
   "metadata": {},
   "outputs": [],
   "source": [
    "import csv"
   ]
  },
  {
   "cell_type": "code",
   "execution_count": 2,
   "metadata": {},
   "outputs": [],
   "source": [
    "mydict =[{'branch': 'COE', 'cgpa': '9.0',\n",
    "          'name': 'Nikhil', 'year': '2'},\n",
    "        {'branch': 'COE', 'cgpa': '9.1',\n",
    "         'name': 'Sanchit', 'year': '2'},\n",
    "        {'branch': 'IT', 'cgpa': '9.3',\n",
    "         'name': 'Aditya', 'year': '2'},\n",
    "        {'branch': 'SE', 'cgpa': '9.5',\n",
    "         'name': 'Sagar', 'year': '1'},\n",
    "        {'branch': 'MCE', 'cgpa': '7.8',\n",
    "         'name': 'Prateek', 'year': '3'},\n",
    "        {'branch': 'EP', 'cgpa': '9.1',\n",
    "         'name': 'Sahil', 'year': '2'}]\n",
    " \n",
    "# field names\n",
    "fields = ['name', 'branch', 'year', 'cgpa']\n",
    " \n",
    "# name of csv file\n",
    "filename = \"first.csv\"\n",
    " \n",
    "# writing to csv file\n",
    "with open(filename, 'w') as csvfile:\n",
    "    # creating a csv dict writer object\n",
    "    writer = csv.DictWriter(csvfile, fieldnames = fields)\n",
    "     \n",
    "    # writing headers (field names)\n",
    "    writer.writeheader()\n",
    "     \n",
    "    # writing data rows\n",
    "    writer.writerows(mydict)\n"
   ]
  },
  {
   "cell_type": "code",
   "execution_count": 6,
   "metadata": {},
   "outputs": [],
   "source": [
    "# import pandas as pd\n",
    "\n",
    "# df = \n",
    "\n",
    "my_data = [['name','branch','year','cgpa'],\n",
    "            ['Nikhil','COE','2','9.0'],\n",
    "            ['Sanchit','COE','2','9.1']]     \n",
    "\n",
    "with open('second.csv', 'w') as fp:\n",
    "    for i in my_data:\n",
    "        fp.write(','.join(i)+'\\n')\n"
   ]
  },
  {
   "cell_type": "code",
   "execution_count": 9,
   "metadata": {},
   "outputs": [
    {
     "ename": "TypeError",
     "evalue": "Math.sum() missing 1 required positional argument: 'ar2'",
     "output_type": "error",
     "traceback": [
      "\u001b[1;31m---------------------------------------------------------------------------\u001b[0m",
      "\u001b[1;31mTypeError\u001b[0m                                 Traceback (most recent call last)",
      "\u001b[1;32md:\\misc\\testing\\test_py\\practice..ipynb Cell 6\u001b[0m in \u001b[0;36m<cell line: 7>\u001b[1;34m()\u001b[0m\n\u001b[0;32m      <a href='vscode-notebook-cell:/d%3A/misc/testing/test_py/practice..ipynb#W5sZmlsZQ%3D%3D?line=4'>5</a>\u001b[0m m \u001b[39m=\u001b[39m  Math()\n\u001b[0;32m      <a href='vscode-notebook-cell:/d%3A/misc/testing/test_py/practice..ipynb#W5sZmlsZQ%3D%3D?line=5'>6</a>\u001b[0m m\u001b[39m.\u001b[39msum(\u001b[39m2\u001b[39m, \u001b[39m3\u001b[39m)\n\u001b[1;32m----> <a href='vscode-notebook-cell:/d%3A/misc/testing/test_py/practice..ipynb#W5sZmlsZQ%3D%3D?line=6'>7</a>\u001b[0m m\u001b[39m.\u001b[39;49msum(\u001b[39m2\u001b[39;49m)\n",
      "\u001b[1;31mTypeError\u001b[0m: Math.sum() missing 1 required positional argument: 'ar2'"
     ]
    }
   ],
   "source": [
    "class Math:\n",
    "    def sum(self, ar1, ar2):\n",
    "        return ar1 + ar2\n",
    "\n",
    "m =  Math()\n",
    "m.sum(2, 3)\n",
    "\n",
    "def custom (ar):\n",
    "    return ar\n",
    "m.sum(2)"
   ]
  },
  {
   "cell_type": "code",
   "execution_count": 11,
   "metadata": {},
   "outputs": [
    {
     "name": "stdout",
     "output_type": "stream",
     "text": [
      "11\n"
     ]
    }
   ],
   "source": [
    "a,b,x=map(int,input().split())\n",
    "y = a * x + b\n",
    "print(y)"
   ]
  },
  {
   "cell_type": "code",
   "execution_count": null,
   "metadata": {},
   "outputs": [],
   "source": [
    "n1 = 123123111\n",
    "n1 = 1231\n",
    "n2 = 1\n",
    "\n",
    "temp = 1\n",
    "x = n1\n",
    "\n",
    "while n1 // temp:\n",
    "    if x %\n",
    "    temp *= 10"
   ]
  }
 ],
 "metadata": {
  "kernelspec": {
   "display_name": "Python 3.10.6 64-bit",
   "language": "python",
   "name": "python3"
  },
  "language_info": {
   "codemirror_mode": {
    "name": "ipython",
    "version": 3
   },
   "file_extension": ".py",
   "mimetype": "text/x-python",
   "name": "python",
   "nbconvert_exporter": "python",
   "pygments_lexer": "ipython3",
   "version": "3.10.6"
  },
  "orig_nbformat": 4,
  "vscode": {
   "interpreter": {
    "hash": "cb746cae21d8eece361e3d69b5b88e7465dccc6b14f8d94d4bf000eb937e2588"
   }
  }
 },
 "nbformat": 4,
 "nbformat_minor": 2
}
